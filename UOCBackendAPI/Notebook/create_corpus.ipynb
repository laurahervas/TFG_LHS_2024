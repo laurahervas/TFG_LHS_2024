{
  "cells": [
    {
      "cell_type": "code",
      "execution_count": null,
      "metadata": {},
      "outputs": [],
      "source": [
        "pip install spacy"
      ]
    },
    {
      "cell_type": "code",
      "execution_count": 2,
      "metadata": {
        "gather": {
          "logged": 1704898288425
        }
      },
      "outputs": [],
      "source": [
        "import pandas as pd\n",
        "import string\n",
        "import unicodedata\n",
        "import numpy as np\n",
        "import openpyxl\n",
        "import spacy\n",
        "#import transformers\n",
        "#import torch"
      ]
    },
    {
      "cell_type": "code",
      "execution_count": 128,
      "metadata": {},
      "outputs": [
        {
          "name": "stdout",
          "output_type": "stream",
          "text": [
            "Unnamed: 0           0\n",
            "CODIGO_FAQ           0\n",
            "title_found          0\n",
            "body texto           2\n",
            "variaciones          0\n",
            "num_variaciones      0\n",
            "motivo             221\n",
            "intent               0\n",
            "num_tokens           0\n",
            "dtype: int64\n"
          ]
        },
        {
          "data": {
            "text/html": [
              "<div>\n",
              "<style scoped>\n",
              "    .dataframe tbody tr th:only-of-type {\n",
              "        vertical-align: middle;\n",
              "    }\n",
              "\n",
              "    .dataframe tbody tr th {\n",
              "        vertical-align: top;\n",
              "    }\n",
              "\n",
              "    .dataframe thead th {\n",
              "        text-align: right;\n",
              "    }\n",
              "</style>\n",
              "<table border=\"1\" class=\"dataframe\">\n",
              "  <thead>\n",
              "    <tr style=\"text-align: right;\">\n",
              "      <th></th>\n",
              "      <th>Unnamed: 0</th>\n",
              "      <th>CODIGO_FAQ</th>\n",
              "      <th>title_found</th>\n",
              "      <th>body texto</th>\n",
              "      <th>variaciones</th>\n",
              "      <th>num_variaciones</th>\n",
              "      <th>motivo</th>\n",
              "      <th>intent</th>\n",
              "      <th>num_tokens</th>\n",
              "    </tr>\n",
              "  </thead>\n",
              "  <tbody>\n",
              "    <tr>\n",
              "      <th>0</th>\n",
              "      <td>0</td>\n",
              "      <td>433243</td>\n",
              "      <td>Visa Lidl para empleados del grupo Lidl</td>\n",
              "      <td>¿A quién está dirigida? La Visa Lidl Empleado ...</td>\n",
              "      <td>['Tarjeta para empleados Lidl', 'solicitar UNA...</td>\n",
              "      <td>22</td>\n",
              "      <td>NaN</td>\n",
              "      <td>Visa_Lidl_para_empleados_del_grupo_Lidl</td>\n",
              "      <td>1007</td>\n",
              "    </tr>\n",
              "    <tr>\n",
              "      <th>1</th>\n",
              "      <td>1</td>\n",
              "      <td>419915</td>\n",
              "      <td>¿Cómo puedo anular el cobro de una liquidación...</td>\n",
              "      <td>¿Cómo puedo anular el cobro de una liquidación...</td>\n",
              "      <td>['Anular cobro liquidación tarjeta oficina', '...</td>\n",
              "      <td>20</td>\n",
              "      <td>NaN</td>\n",
              "      <td>_Como_puedo_anular_el_cobro_de_una_liquidacion...</td>\n",
              "      <td>74</td>\n",
              "    </tr>\n",
              "    <tr>\n",
              "      <th>2</th>\n",
              "      <td>2</td>\n",
              "      <td>421998</td>\n",
              "      <td>¿Cómo puedo modificar un contrato de tarjeta p...</td>\n",
              "      <td>¿Cómo puedo modificar un contrato de tarjeta p...</td>\n",
              "      <td>['motivo cambio de límite Tarjeta', 'como renu...</td>\n",
              "      <td>18</td>\n",
              "      <td>NaN</td>\n",
              "      <td>_Como_puedo_modificar_un_contrato_de_tarjeta_p...</td>\n",
              "      <td>122</td>\n",
              "    </tr>\n",
              "    <tr>\n",
              "      <th>3</th>\n",
              "      <td>3</td>\n",
              "      <td>423029</td>\n",
              "      <td>¿Cómo modificar la forma o importe de cobro de...</td>\n",
              "      <td>¿Cuál es la comisión por recargar una tarjeta ...</td>\n",
              "      <td>['Qué hago para cambiar la forma de cobro de l...</td>\n",
              "      <td>21</td>\n",
              "      <td>NaN</td>\n",
              "      <td>Como_modificar_la_forma_o_importe_de_cobro_de_...</td>\n",
              "      <td>380</td>\n",
              "    </tr>\n",
              "    <tr>\n",
              "      <th>4</th>\n",
              "      <td>4</td>\n",
              "      <td>422618</td>\n",
              "      <td>¿Cuáles son los plazos de recepción de las tar...</td>\n",
              "      <td>¿De que depende el plazo de recepción de las t...</td>\n",
              "      <td>['Por dónde veo los plazos de recepción de las...</td>\n",
              "      <td>29</td>\n",
              "      <td>NaN</td>\n",
              "      <td>Cuales_son_los_plazos_de_recepcion_de_las_tarj...</td>\n",
              "      <td>680</td>\n",
              "    </tr>\n",
              "  </tbody>\n",
              "</table>\n",
              "</div>"
            ],
            "text/plain": [
              "   Unnamed: 0  CODIGO_FAQ                                        title_found  \\\n",
              "0           0      433243            Visa Lidl para empleados del grupo Lidl   \n",
              "1           1      419915  ¿Cómo puedo anular el cobro de una liquidación...   \n",
              "2           2      421998  ¿Cómo puedo modificar un contrato de tarjeta p...   \n",
              "3           3      423029  ¿Cómo modificar la forma o importe de cobro de...   \n",
              "4           4      422618  ¿Cuáles son los plazos de recepción de las tar...   \n",
              "\n",
              "                                          body texto  \\\n",
              "0  ¿A quién está dirigida? La Visa Lidl Empleado ...   \n",
              "1  ¿Cómo puedo anular el cobro de una liquidación...   \n",
              "2  ¿Cómo puedo modificar un contrato de tarjeta p...   \n",
              "3  ¿Cuál es la comisión por recargar una tarjeta ...   \n",
              "4  ¿De que depende el plazo de recepción de las t...   \n",
              "\n",
              "                                         variaciones  num_variaciones  motivo  \\\n",
              "0  ['Tarjeta para empleados Lidl', 'solicitar UNA...               22     NaN   \n",
              "1  ['Anular cobro liquidación tarjeta oficina', '...               20     NaN   \n",
              "2  ['motivo cambio de límite Tarjeta', 'como renu...               18     NaN   \n",
              "3  ['Qué hago para cambiar la forma de cobro de l...               21     NaN   \n",
              "4  ['Por dónde veo los plazos de recepción de las...               29     NaN   \n",
              "\n",
              "                                              intent  num_tokens  \n",
              "0            Visa_Lidl_para_empleados_del_grupo_Lidl        1007  \n",
              "1  _Como_puedo_anular_el_cobro_de_una_liquidacion...          74  \n",
              "2  _Como_puedo_modificar_un_contrato_de_tarjeta_p...         122  \n",
              "3  Como_modificar_la_forma_o_importe_de_cobro_de_...         380  \n",
              "4  Cuales_son_los_plazos_de_recepcion_de_las_tarj...         680  "
            ]
          },
          "execution_count": 128,
          "metadata": {},
          "output_type": "execute_result"
        }
      ],
      "source": [
        "df_corpus_uoc = pd.read_excel('data/corpus_con_variaciones_20240427_uoc_ofuscado.xlsx')\n",
        "numNA = df_corpus_uoc.isna().sum()\n",
        "print(numNA)\n",
        "df_corpus_uoc.head()"
      ]
    },
    {
      "cell_type": "code",
      "execution_count": 129,
      "metadata": {},
      "outputs": [
        {
          "name": "stdout",
          "output_type": "stream",
          "text": [
            "Unnamed: 0           0\n",
            "CODIGO_FAQ           0\n",
            "title_found          0\n",
            "body texto           0\n",
            "variaciones          0\n",
            "num_variaciones      0\n",
            "motivo             219\n",
            "intent               0\n",
            "num_tokens           0\n",
            "dtype: int64\n"
          ]
        }
      ],
      "source": [
        "df_corpus_uoc = df_corpus_uoc.dropna(subset=['body texto'])\n",
        "numNA = df_corpus_uoc.isna().sum()\n",
        "print(numNA)"
      ]
    },
    {
      "cell_type": "code",
      "execution_count": 130,
      "metadata": {},
      "outputs": [],
      "source": [
        "df_corpus_uoc.to_pickle('data/corpus_con_variaciones_20240427_uoc_ofuscado.pkl')"
      ]
    },
    {
      "cell_type": "code",
      "execution_count": 3,
      "metadata": {},
      "outputs": [
        {
          "data": {
            "text/html": [
              "<div>\n",
              "<style scoped>\n",
              "    .dataframe tbody tr th:only-of-type {\n",
              "        vertical-align: middle;\n",
              "    }\n",
              "\n",
              "    .dataframe tbody tr th {\n",
              "        vertical-align: top;\n",
              "    }\n",
              "\n",
              "    .dataframe thead th {\n",
              "        text-align: right;\n",
              "    }\n",
              "</style>\n",
              "<table border=\"1\" class=\"dataframe\">\n",
              "  <thead>\n",
              "    <tr style=\"text-align: right;\">\n",
              "      <th></th>\n",
              "      <th>Unnamed: 0</th>\n",
              "      <th>CODIGO_FAQ</th>\n",
              "      <th>title_found</th>\n",
              "      <th>body texto</th>\n",
              "      <th>variaciones</th>\n",
              "      <th>num_variaciones</th>\n",
              "      <th>motivo</th>\n",
              "      <th>intent</th>\n",
              "      <th>num_tokens</th>\n",
              "    </tr>\n",
              "  </thead>\n",
              "  <tbody>\n",
              "    <tr>\n",
              "      <th>0</th>\n",
              "      <td>0</td>\n",
              "      <td>433243</td>\n",
              "      <td>Visa Lidl para empleados del grupo Lidl</td>\n",
              "      <td>¿A quién está dirigida? La Visa Lidl Empleado ...</td>\n",
              "      <td>['Tarjeta para empleados Lidl', 'solicitar UNA...</td>\n",
              "      <td>22</td>\n",
              "      <td>NaN</td>\n",
              "      <td>Visa_Lidl_para_empleados_del_grupo_Lidl</td>\n",
              "      <td>1007</td>\n",
              "    </tr>\n",
              "    <tr>\n",
              "      <th>1</th>\n",
              "      <td>1</td>\n",
              "      <td>419915</td>\n",
              "      <td>¿Cómo puedo anular el cobro de una liquidación...</td>\n",
              "      <td>¿Cómo puedo anular el cobro de una liquidación...</td>\n",
              "      <td>['Anular cobro liquidación tarjeta oficina', '...</td>\n",
              "      <td>20</td>\n",
              "      <td>NaN</td>\n",
              "      <td>_Como_puedo_anular_el_cobro_de_una_liquidacion...</td>\n",
              "      <td>74</td>\n",
              "    </tr>\n",
              "    <tr>\n",
              "      <th>2</th>\n",
              "      <td>2</td>\n",
              "      <td>421998</td>\n",
              "      <td>¿Cómo puedo modificar un contrato de tarjeta p...</td>\n",
              "      <td>¿Cómo puedo modificar un contrato de tarjeta p...</td>\n",
              "      <td>['motivo cambio de límite Tarjeta', 'como renu...</td>\n",
              "      <td>18</td>\n",
              "      <td>NaN</td>\n",
              "      <td>_Como_puedo_modificar_un_contrato_de_tarjeta_p...</td>\n",
              "      <td>122</td>\n",
              "    </tr>\n",
              "    <tr>\n",
              "      <th>3</th>\n",
              "      <td>3</td>\n",
              "      <td>423029</td>\n",
              "      <td>¿Cómo modificar la forma o importe de cobro de...</td>\n",
              "      <td>¿Cuál es la comisión por recargar una tarjeta ...</td>\n",
              "      <td>['Qué hago para cambiar la forma de cobro de l...</td>\n",
              "      <td>21</td>\n",
              "      <td>NaN</td>\n",
              "      <td>Como_modificar_la_forma_o_importe_de_cobro_de_...</td>\n",
              "      <td>380</td>\n",
              "    </tr>\n",
              "    <tr>\n",
              "      <th>4</th>\n",
              "      <td>4</td>\n",
              "      <td>422618</td>\n",
              "      <td>¿Cuáles son los plazos de recepción de las tar...</td>\n",
              "      <td>¿De que depende el plazo de recepción de las t...</td>\n",
              "      <td>['Por dónde veo los plazos de recepción de las...</td>\n",
              "      <td>29</td>\n",
              "      <td>NaN</td>\n",
              "      <td>Cuales_son_los_plazos_de_recepcion_de_las_tarj...</td>\n",
              "      <td>680</td>\n",
              "    </tr>\n",
              "  </tbody>\n",
              "</table>\n",
              "</div>"
            ],
            "text/plain": [
              "   Unnamed: 0  CODIGO_FAQ                                        title_found  \\\n",
              "0           0      433243            Visa Lidl para empleados del grupo Lidl   \n",
              "1           1      419915  ¿Cómo puedo anular el cobro de una liquidación...   \n",
              "2           2      421998  ¿Cómo puedo modificar un contrato de tarjeta p...   \n",
              "3           3      423029  ¿Cómo modificar la forma o importe de cobro de...   \n",
              "4           4      422618  ¿Cuáles son los plazos de recepción de las tar...   \n",
              "\n",
              "                                          body texto  \\\n",
              "0  ¿A quién está dirigida? La Visa Lidl Empleado ...   \n",
              "1  ¿Cómo puedo anular el cobro de una liquidación...   \n",
              "2  ¿Cómo puedo modificar un contrato de tarjeta p...   \n",
              "3  ¿Cuál es la comisión por recargar una tarjeta ...   \n",
              "4  ¿De que depende el plazo de recepción de las t...   \n",
              "\n",
              "                                         variaciones  num_variaciones  motivo  \\\n",
              "0  ['Tarjeta para empleados Lidl', 'solicitar UNA...               22     NaN   \n",
              "1  ['Anular cobro liquidación tarjeta oficina', '...               20     NaN   \n",
              "2  ['motivo cambio de límite Tarjeta', 'como renu...               18     NaN   \n",
              "3  ['Qué hago para cambiar la forma de cobro de l...               21     NaN   \n",
              "4  ['Por dónde veo los plazos de recepción de las...               29     NaN   \n",
              "\n",
              "                                              intent  num_tokens  \n",
              "0            Visa_Lidl_para_empleados_del_grupo_Lidl        1007  \n",
              "1  _Como_puedo_anular_el_cobro_de_una_liquidacion...          74  \n",
              "2  _Como_puedo_modificar_un_contrato_de_tarjeta_p...         122  \n",
              "3  Como_modificar_la_forma_o_importe_de_cobro_de_...         380  \n",
              "4  Cuales_son_los_plazos_de_recepcion_de_las_tarj...         680  "
            ]
          },
          "execution_count": 3,
          "metadata": {},
          "output_type": "execute_result"
        }
      ],
      "source": [
        "df_corpus_uoc = pd.read_pickle('data/corpus_con_variaciones_20240427_uoc_ofuscado.pkl')\n",
        "df_corpus_uoc.head()"
      ]
    },
    {
      "cell_type": "code",
      "execution_count": 4,
      "metadata": {},
      "outputs": [
        {
          "data": {
            "text/html": [
              "<div>\n",
              "<style scoped>\n",
              "    .dataframe tbody tr th:only-of-type {\n",
              "        vertical-align: middle;\n",
              "    }\n",
              "\n",
              "    .dataframe tbody tr th {\n",
              "        vertical-align: top;\n",
              "    }\n",
              "\n",
              "    .dataframe thead th {\n",
              "        text-align: right;\n",
              "    }\n",
              "</style>\n",
              "<table border=\"1\" class=\"dataframe\">\n",
              "  <thead>\n",
              "    <tr style=\"text-align: right;\">\n",
              "      <th></th>\n",
              "      <th>CODIGO_FAQ</th>\n",
              "      <th>variaciones</th>\n",
              "      <th>motivo</th>\n",
              "    </tr>\n",
              "  </thead>\n",
              "  <tbody>\n",
              "    <tr>\n",
              "      <th>0</th>\n",
              "      <td>433243</td>\n",
              "      <td>['Tarjeta para empleados Lidl', 'solicitar UNA...</td>\n",
              "      <td>NaN</td>\n",
              "    </tr>\n",
              "    <tr>\n",
              "      <th>1</th>\n",
              "      <td>419915</td>\n",
              "      <td>['Anular cobro liquidación tarjeta oficina', '...</td>\n",
              "      <td>NaN</td>\n",
              "    </tr>\n",
              "    <tr>\n",
              "      <th>2</th>\n",
              "      <td>421998</td>\n",
              "      <td>['motivo cambio de límite Tarjeta', 'como renu...</td>\n",
              "      <td>NaN</td>\n",
              "    </tr>\n",
              "    <tr>\n",
              "      <th>3</th>\n",
              "      <td>423029</td>\n",
              "      <td>['Qué hago para cambiar la forma de cobro de l...</td>\n",
              "      <td>NaN</td>\n",
              "    </tr>\n",
              "    <tr>\n",
              "      <th>4</th>\n",
              "      <td>422618</td>\n",
              "      <td>['Por dónde veo los plazos de recepción de las...</td>\n",
              "      <td>NaN</td>\n",
              "    </tr>\n",
              "  </tbody>\n",
              "</table>\n",
              "</div>"
            ],
            "text/plain": [
              "   CODIGO_FAQ                                        variaciones  motivo\n",
              "0      433243  ['Tarjeta para empleados Lidl', 'solicitar UNA...     NaN\n",
              "1      419915  ['Anular cobro liquidación tarjeta oficina', '...     NaN\n",
              "2      421998  ['motivo cambio de límite Tarjeta', 'como renu...     NaN\n",
              "3      423029  ['Qué hago para cambiar la forma de cobro de l...     NaN\n",
              "4      422618  ['Por dónde veo los plazos de recepción de las...     NaN"
            ]
          },
          "execution_count": 4,
          "metadata": {},
          "output_type": "execute_result"
        }
      ],
      "source": [
        "df_corpus_uoc2 = df_corpus_uoc[['CODIGO_FAQ','variaciones','motivo']].explode('variaciones').reset_index(drop=True)\n",
        "df_corpus_uoc2.head()"
      ]
    },
    {
      "cell_type": "code",
      "execution_count": 5,
      "metadata": {},
      "outputs": [],
      "source": [
        "# Defining cosine similarity \n",
        "def compute_cosine_similarity(a,b): \n",
        "    cos_sim = np.dot(a, b)/(np.linalg.norm(a)*np.linalg.norm(b))\n",
        "    return (cos_sim)"
      ]
    },
    {
      "cell_type": "code",
      "execution_count": 6,
      "metadata": {},
      "outputs": [],
      "source": [
        "def preprocess_text(text):\n",
        "    for p in string.punctuation:\n",
        "        text = text.replace(p,'')\n",
        "    return unicodedata.normalize('NFKD', text).encode('ascii', 'ignore').decode('utf-8', 'ignore').lower()"
      ]
    },
    {
      "cell_type": "code",
      "execution_count": 7,
      "metadata": {},
      "outputs": [],
      "source": [
        "df_corpus_uoc2 = df_corpus_uoc2[~df_corpus_uoc2['variaciones'].isna()].reset_index(drop=True)\n",
        "df_corpus_uoc2['texto'] = df_corpus_uoc2['variaciones'].apply(preprocess_text)"
      ]
    },
    {
      "cell_type": "code",
      "execution_count": 8,
      "metadata": {},
      "outputs": [
        {
          "data": {
            "text/html": [
              "<div>\n",
              "<style scoped>\n",
              "    .dataframe tbody tr th:only-of-type {\n",
              "        vertical-align: middle;\n",
              "    }\n",
              "\n",
              "    .dataframe tbody tr th {\n",
              "        vertical-align: top;\n",
              "    }\n",
              "\n",
              "    .dataframe thead th {\n",
              "        text-align: right;\n",
              "    }\n",
              "</style>\n",
              "<table border=\"1\" class=\"dataframe\">\n",
              "  <thead>\n",
              "    <tr style=\"text-align: right;\">\n",
              "      <th></th>\n",
              "      <th>CODIGO_FAQ</th>\n",
              "      <th>variaciones</th>\n",
              "      <th>motivo</th>\n",
              "      <th>texto</th>\n",
              "    </tr>\n",
              "  </thead>\n",
              "  <tbody>\n",
              "  </tbody>\n",
              "</table>\n",
              "</div>"
            ],
            "text/plain": [
              "Empty DataFrame\n",
              "Columns: [CODIGO_FAQ, variaciones, motivo, texto]\n",
              "Index: []"
            ]
          },
          "execution_count": 8,
          "metadata": {},
          "output_type": "execute_result"
        }
      ],
      "source": [
        "df_corpus_uoc2[df_corpus_uoc2.duplicated(subset='texto',keep=False)].sort_values(by='texto')"
      ]
    },
    {
      "cell_type": "code",
      "execution_count": 9,
      "metadata": {},
      "outputs": [],
      "source": [
        "df_corpus_uoc2_den = df_corpus_uoc2[~df_corpus_uoc2['motivo'].isna()].drop_duplicates()\n",
        "df_corpus_uoc2_noden = df_corpus_uoc2[df_corpus_uoc2['motivo'].isna()].drop_duplicates(subset='texto')\n",
        "df_corpus_uoc_new = pd.concat([df_corpus_uoc2_noden,df_corpus_uoc2_den])"
      ]
    },
    {
      "cell_type": "code",
      "execution_count": 10,
      "metadata": {},
      "outputs": [],
      "source": [
        "df_corpus_uoc_new = df_corpus_uoc_new.reset_index(drop=True)"
      ]
    },
    {
      "cell_type": "code",
      "execution_count": 139,
      "metadata": {},
      "outputs": [],
      "source": [
        "df_corpus_uoc_new.to_csv('data/corpus_clean_pre_embed.csv',sep=\"|\", index=None)"
      ]
    },
    {
      "cell_type": "code",
      "execution_count": 140,
      "metadata": {},
      "outputs": [],
      "source": [
        "df_corpus_uoc_new = pd.read_csv('data/corpus_clean_pre_embed.csv',sep=\"|\")"
      ]
    },
    {
      "cell_type": "code",
      "execution_count": 141,
      "metadata": {},
      "outputs": [],
      "source": [
        "# all-MiniLM-L6-v2\n",
        "from sentence_transformers import SentenceTransformer\n",
        "model = SentenceTransformer(\"all-MiniLM-L6-v2\")\n",
        "\n",
        "\n",
        "def mini_embedding(user_query):\n",
        "    try:\n",
        "        # Sentences are encoded by calling model.encode()\n",
        "        embeddings = model.encode(user_query)\n",
        "    except:\n",
        "        print (\"Error: Embedding error\")\n",
        "    return embeddings\n",
        "\n",
        "    # Print the embeddings\n",
        "    '''\n",
        "    for sentence, embedding in zip(user_query, embeddings):\n",
        "        print(\"Sentence:\", sentence)\n",
        "        print(\"Embedding:\", embedding)\n",
        "        print(\"\")\n",
        "    '''"
      ]
    },
    {
      "cell_type": "code",
      "execution_count": 142,
      "metadata": {},
      "outputs": [],
      "source": [
        "df_corpus_uoc_new['embeddings_mini'] = df_corpus_uoc_new['texto'].apply(mini_embedding)"
      ]
    },
    {
      "cell_type": "code",
      "execution_count": 143,
      "metadata": {},
      "outputs": [],
      "source": [
        "uq = 'que cuota anual tiene una tarjeta de debito'\n",
        "e = mini_embedding(uq)\n",
        "df_corpus_uoc_new['score_mini'] = df_corpus_uoc_new['embeddings_mini'].apply(lambda x: compute_cosine_similarity(x, e))"
      ]
    },
    {
      "cell_type": "code",
      "execution_count": 144,
      "metadata": {},
      "outputs": [],
      "source": [
        "# Load the BERT model. Various models trained on Natural Language Inference (NLI) https://www.sbert.net/docs/pretrained_models.html\n",
        "from sentence_transformers import SentenceTransformer\n",
        "sbert_model = SentenceTransformer('bert-base-nli-mean-tokens')\n",
        "def bert_embedding(user_query):\n",
        "    try:\n",
        "        # Sentences are encoded by calling model.encode()\n",
        "        embeddings = model.encode(user_query)\n",
        "    except:\n",
        "        print (\"Error: Embedding error\")\n",
        "    return embeddings\n"
      ]
    },
    {
      "cell_type": "code",
      "execution_count": 145,
      "metadata": {},
      "outputs": [],
      "source": [
        "df_corpus_uoc_new['embeddings_bert'] = df_corpus_uoc_new['texto'].apply(bert_embedding)"
      ]
    },
    {
      "cell_type": "code",
      "execution_count": 146,
      "metadata": {},
      "outputs": [],
      "source": [
        "uq = 'que cuota anual tiene una tarjeta de debito'\n",
        "e = bert_embedding(uq)\n",
        "df_corpus_uoc_new['score_bert'] = df_corpus_uoc_new['embeddings_bert'].apply(lambda x: compute_cosine_similarity(x, e))"
      ]
    },
    {
      "cell_type": "code",
      "execution_count": null,
      "metadata": {},
      "outputs": [],
      "source": [
        "pip install es-core-news-sm"
      ]
    },
    {
      "cell_type": "code",
      "execution_count": 147,
      "metadata": {},
      "outputs": [],
      "source": [
        "# SpaCy's model text embeddings, taking into account efficiency\n",
        "\n",
        "import spacy\n",
        "def spacy_embedding(user_query):\n",
        "    nlp = spacy.load('es_core_news_sm')\n",
        "    #embeddings = [nlp(sentence).vector for sentence in user_query]\n",
        "    embeddings = nlp(user_query).vector\n",
        "    return embeddings\n",
        "\n",
        "    # Print the embeddings\n",
        "    '''\n",
        "    for sentence, embedding in zip(user_query, embeddings):\n",
        "        print(\"Sentence:\", sentence)\n",
        "        print(\"Embedding:\", embedding)\n",
        "        print(\"\")\n",
        "    '''\n"
      ]
    },
    {
      "cell_type": "code",
      "execution_count": 148,
      "metadata": {},
      "outputs": [],
      "source": [
        "#word embeddings using spacy taking into account efficiency\n",
        "df_corpus_uoc_new['embeddings_spacy'] = df_corpus_uoc_new['texto'].apply(spacy_embedding)"
      ]
    },
    {
      "cell_type": "code",
      "execution_count": 149,
      "metadata": {},
      "outputs": [],
      "source": [
        "uq = 'que cuota anual tiene una tarjeta de debito'\n",
        "e = spacy_embedding(uq)\n",
        "df_corpus_uoc_new['score_spacy'] = df_corpus_uoc_new['embeddings_spacy'].apply(lambda x: compute_cosine_similarity(x, e))"
      ]
    },
    {
      "cell_type": "code",
      "execution_count": null,
      "metadata": {},
      "outputs": [],
      "source": [
        "#pip install -qU torch transformers\n",
        "'''\n",
        "import torch\n",
        "from transformers import AutoModel, AutoTokenizer\n",
        "\n",
        "# use GPU if available, on mac can use MPS\n",
        "device = \"cuda\" if torch.cuda.is_available() else \"cpu\"\n",
        "\n",
        "model_id = \"intfloat/e5-base-v2\"\n",
        "\n",
        "# initialize tokenizer and model\n",
        "tokenizer = AutoTokenizer.from_pretrained(model_id)\n",
        "model = AutoModel.from_pretrained(model_id).to(device)\n",
        "model.eval()\n",
        "'''"
      ]
    },
    {
      "cell_type": "code",
      "execution_count": null,
      "metadata": {},
      "outputs": [],
      "source": [
        "'''\n",
        "def embeddings_E5(action: str, docs: list[str]):\n",
        "    \n",
        "    #action can be 'passage' or 'query\n",
        "    docs = [f\"{action}: {d}\" for d in docs]\n",
        "    # tokenize\n",
        "    tokens = tokenizer(\n",
        "        docs, padding=True, max_length=512, truncation=True, return_tensors=\"pt\"\n",
        "    ).to(device)\n",
        "    with torch.no_grad():\n",
        "        # process with model for token-level embeddings\n",
        "        out = model(**tokens)\n",
        "        # mask padding tokens\n",
        "        last_hidden = out.last_hidden_state.masked_fill(\n",
        "            ~tokens[\"attention_mask\"][..., None].bool(), 0.0\n",
        "        )\n",
        "        # create mean pooled embeddings\n",
        "        doc_embeds = last_hidden.sum(dim=1) / \\\n",
        "            tokens[\"attention_mask\"].sum(dim=1)[..., None]\n",
        "    return doc_embeds.cpu().numpy().tolist()\n",
        "    '''"
      ]
    },
    {
      "cell_type": "code",
      "execution_count": null,
      "metadata": {},
      "outputs": [],
      "source": [
        "#word embeddings using E5 model\n",
        "#df_corpus_uoc_new['embeddings_E5'] = df_corpus_uoc_new['texto'].apply(embeddings_E5, args=('passage',))"
      ]
    },
    {
      "cell_type": "code",
      "execution_count": null,
      "metadata": {},
      "outputs": [],
      "source": [
        "'''\n",
        "uq = 'que cuota anual tiene una tarjeta de debito'\n",
        "e = embeddings_E5('query',uq)\n",
        "df_corpus_uoc_new['score_E5'] = df_corpus_uoc_new['embeddings_E5'].apply(lambda x: compute_cosine_similarity(x, e))\n",
        "'''"
      ]
    },
    {
      "cell_type": "code",
      "execution_count": 150,
      "metadata": {},
      "outputs": [],
      "source": [
        "from sentence_transformers import SentenceTransformer\n",
        "\n",
        "def embeddings_mxbai(docs: list[str]):\n",
        "    # 1. load model\n",
        "    model = SentenceTransformer(\"mixedbread-ai/mxbai-embed-large-v1\")\n",
        "    # 2. Encode\n",
        "    embeddings = model.encode(docs)\n",
        "    return embeddings\n"
      ]
    },
    {
      "cell_type": "code",
      "execution_count": 151,
      "metadata": {},
      "outputs": [],
      "source": [
        "#word embeddings using mxbai model\n",
        "df_corpus_uoc_new['embeddings_mxbai'] = df_corpus_uoc_new['texto'].apply(embeddings_mxbai)"
      ]
    },
    {
      "cell_type": "code",
      "execution_count": 152,
      "metadata": {},
      "outputs": [],
      "source": [
        "uq = 'que cuota anual tiene una tarjeta de debito'\n",
        "e = embeddings_mxbai(uq)\n",
        "df_corpus_uoc_new['score_mxbai'] = df_corpus_uoc_new['embeddings_mxbai'].apply(lambda x: compute_cosine_similarity(x, e))"
      ]
    },
    {
      "cell_type": "code",
      "execution_count": null,
      "metadata": {},
      "outputs": [],
      "source": [
        "'''\n",
        "nlp = spacy.load('es_dep_news_trf')\n",
        "embeddings = [nlp(sentence).vector for sentence in df_corpus_uoc_new['texto'][0]]\n",
        "print(embeddings.ner)'''"
      ]
    },
    {
      "cell_type": "code",
      "execution_count": 153,
      "metadata": {},
      "outputs": [],
      "source": [
        "from sentence_transformers import SentenceTransformer\n",
        "\n",
        "def embeddings_GIST(docs: list[str]):\n",
        "    model = SentenceTransformer(\"avsolatorio/GIST-small-Embedding-v0\")\n",
        "    embeddings = model.encode(docs, convert_to_tensor=False)\n",
        "    return embeddings"
      ]
    },
    {
      "cell_type": "code",
      "execution_count": 155,
      "metadata": {},
      "outputs": [],
      "source": [
        "#word embeddings using mxbai model\n",
        "df_corpus_uoc_new['embeddings_GIST'] = df_corpus_uoc_new['texto'].apply(embeddings_GIST)"
      ]
    },
    {
      "cell_type": "code",
      "execution_count": 156,
      "metadata": {},
      "outputs": [],
      "source": [
        "uq = 'que cuota anual tiene una tarjeta de debito'\n",
        "e = embeddings_GIST(uq)\n",
        "df_corpus_uoc_new['score_GIST'] = df_corpus_uoc_new['embeddings_GIST'].apply(lambda x: compute_cosine_similarity(x, e))"
      ]
    },
    {
      "cell_type": "code",
      "execution_count": 11,
      "metadata": {},
      "outputs": [],
      "source": [
        "from sentence_transformers import SentenceTransformer\n",
        "\n",
        "def embeddings_BAAI(docs: list[str]):\n",
        "    model = SentenceTransformer(\"BAAI/bge-m3\")\n",
        "    embeddings = model.encode(docs, convert_to_tensor=False)\n",
        "    return embeddings\n"
      ]
    },
    {
      "cell_type": "code",
      "execution_count": 12,
      "metadata": {},
      "outputs": [],
      "source": [
        "#word embeddings using mxbai model\n",
        "df_corpus_uoc_new['embeddings_BAAI'] = df_corpus_uoc_new['texto'].apply(embeddings_BAAI)"
      ]
    },
    {
      "cell_type": "code",
      "execution_count": 13,
      "metadata": {},
      "outputs": [],
      "source": [
        "uq = 'que cuota anual tiene una tarjeta de debito'\n",
        "e = embeddings_BAAI(uq)\n",
        "df_corpus_uoc_new['score_BAAI'] = df_corpus_uoc_new['embeddings_BAAI'].apply(lambda x: compute_cosine_similarity(x, e))"
      ]
    },
    {
      "cell_type": "code",
      "execution_count": 14,
      "metadata": {},
      "outputs": [
        {
          "data": {
            "text/plain": [
              "161    0.634031\n",
              "164    0.606904\n",
              "59     0.588995\n",
              "35     0.582008\n",
              "163    0.565858\n",
              "         ...   \n",
              "302    0.266775\n",
              "231    0.257598\n",
              "6      0.255942\n",
              "245    0.255407\n",
              "145    0.252249\n",
              "Name: score_BAAI, Length: 439, dtype: float32"
            ]
          },
          "execution_count": 14,
          "metadata": {},
          "output_type": "execute_result"
        }
      ],
      "source": [
        "df_corpus_uoc_new['score_BAAI'].sort_values(ascending=False)"
      ]
    },
    {
      "cell_type": "code",
      "execution_count": 15,
      "metadata": {},
      "outputs": [
        {
          "name": "stdout",
          "output_type": "stream",
          "text": [
            "     CODIGO_FAQ  score_BAAI\n",
            "161      446601    0.634031\n",
            "164      446600    0.606904\n",
            "59       435574    0.588995\n",
            "35       437885    0.582008\n",
            "163      446603    0.565858\n"
          ]
        }
      ],
      "source": [
        "# Get index of the 5 highest score_spacy's rows \n",
        "indices_max_scores_BAAI = df_corpus_uoc_new['score_BAAI'].nlargest(5).index\n",
        "\n",
        "# print scores and codes\n",
        "codes_max_scores_BAAI = df_corpus_uoc_new.loc[indices_max_scores_BAAI, ['CODIGO_FAQ','score_BAAI']] \n",
        "print(codes_max_scores_BAAI)"
      ]
    },
    {
      "cell_type": "code",
      "execution_count": 16,
      "metadata": {},
      "outputs": [],
      "source": [
        "df_corpus_BAAI_final = df_corpus_uoc_new.rename(columns={'embeddings_BAAI':'embeddings'})\n",
        "df_corpus_BAAI_final.to_csv('../FastAPI/db/data/embedding/variaciones_embedding_BAAI_20240427.csv',sep=\"|\", index=None)\n",
        "df_corpus_BAAI_final.to_pickle('../FastAPI/db/data/embedding/variaciones_embedding_BAAI_20240427.pkl')"
      ]
    },
    {
      "cell_type": "code",
      "execution_count": 157,
      "metadata": {},
      "outputs": [
        {
          "data": {
            "text/plain": [
              "439"
            ]
          },
          "execution_count": 157,
          "metadata": {},
          "output_type": "execute_result"
        }
      ],
      "source": [
        "df_corpus_uoc_new['CODIGO_FAQ'].nunique()"
      ]
    },
    {
      "cell_type": "code",
      "execution_count": 158,
      "metadata": {},
      "outputs": [],
      "source": [
        "#df_corpus_uoc_new[['CODIGO_FAQ','embeddings','embeddings_bert', 'embeddings_spacy', 'embeddings_E5','embeddings_mxbai','motivo']].to_csv('../FastAPI/db/data/corpus/variaciones_all_comp_embedding_20240330.csv',sep=\"|\", index=None)\n",
        "df_corpus_uoc_new[['CODIGO_FAQ','embeddings_mini','embeddings_bert', 'embeddings_spacy', 'embeddings_mxbai','embeddings_GIST','motivo']].to_csv('data/variaciones_all_comp_embedding_uoc_20240427.csv',sep=\"|\", index=None)"
      ]
    },
    {
      "cell_type": "code",
      "execution_count": 159,
      "metadata": {},
      "outputs": [],
      "source": [
        "df_corpus_uoc_new[['CODIGO_FAQ','embeddings_mini','embeddings_bert', 'embeddings_spacy', 'embeddings_mxbai','embeddings_GIST','motivo']].to_pickle('data/variaciones_all_comp_embedding_uoc_20240427.pkl')"
      ]
    },
    {
      "cell_type": "code",
      "execution_count": null,
      "metadata": {},
      "outputs": [],
      "source": [
        "#df_corpus_uoc_new = pd.read_pickle('../FastAPI/db/data/corpus/variaciones_all_comp_embedding_uoc_20240427.pkl')"
      ]
    },
    {
      "cell_type": "code",
      "execution_count": 160,
      "metadata": {},
      "outputs": [
        {
          "data": {
            "text/html": [
              "<div>\n",
              "<style scoped>\n",
              "    .dataframe tbody tr th:only-of-type {\n",
              "        vertical-align: middle;\n",
              "    }\n",
              "\n",
              "    .dataframe tbody tr th {\n",
              "        vertical-align: top;\n",
              "    }\n",
              "\n",
              "    .dataframe thead th {\n",
              "        text-align: right;\n",
              "    }\n",
              "</style>\n",
              "<table border=\"1\" class=\"dataframe\">\n",
              "  <thead>\n",
              "    <tr style=\"text-align: right;\">\n",
              "      <th></th>\n",
              "      <th>CODIGO_FAQ</th>\n",
              "      <th>variaciones</th>\n",
              "      <th>motivo</th>\n",
              "      <th>texto</th>\n",
              "      <th>embeddings_mini</th>\n",
              "      <th>score_mini</th>\n",
              "      <th>embeddings_bert</th>\n",
              "      <th>score_bert</th>\n",
              "      <th>embeddings_spacy</th>\n",
              "      <th>score_spacy</th>\n",
              "      <th>embeddings_mxbai</th>\n",
              "      <th>score_mxbai</th>\n",
              "      <th>embeddings_GIST</th>\n",
              "      <th>score_GIST</th>\n",
              "    </tr>\n",
              "  </thead>\n",
              "  <tbody>\n",
              "    <tr>\n",
              "      <th>0</th>\n",
              "      <td>433243</td>\n",
              "      <td>['Tarjeta para empleados Lidl', 'solicitar UNA...</td>\n",
              "      <td>NaN</td>\n",
              "      <td>tarjeta para empleados lidl solicitar una tarj...</td>\n",
              "      <td>[-0.049297784, 0.06306262, -0.052778855, -0.04...</td>\n",
              "      <td>0.442777</td>\n",
              "      <td>[-0.049297784, 0.06306262, -0.052778855, -0.04...</td>\n",
              "      <td>0.442777</td>\n",
              "      <td>[0.06396655, -1.0102829, 0.100738235, 1.127394...</td>\n",
              "      <td>0.572986</td>\n",
              "      <td>[0.02481748, -0.03403738, -0.14437212, 0.72762...</td>\n",
              "      <td>0.723259</td>\n",
              "      <td>[-0.030527227, 0.0026669737, 0.01400228, 0.012...</td>\n",
              "      <td>0.819353</td>\n",
              "    </tr>\n",
              "    <tr>\n",
              "      <th>1</th>\n",
              "      <td>419915</td>\n",
              "      <td>['Anular cobro liquidación tarjeta oficina', '...</td>\n",
              "      <td>NaN</td>\n",
              "      <td>anular cobro liquidacion tarjeta oficina proce...</td>\n",
              "      <td>[-0.026050719, -0.07427596, -0.05052995, -0.07...</td>\n",
              "      <td>0.308574</td>\n",
              "      <td>[-0.026050719, -0.07427596, -0.05052995, -0.07...</td>\n",
              "      <td>0.308574</td>\n",
              "      <td>[0.84611166, 0.28720096, 0.834923, -1.2378342,...</td>\n",
              "      <td>0.557424</td>\n",
              "      <td>[0.48073822, -0.018162876, 0.223723, 0.5368666...</td>\n",
              "      <td>0.719180</td>\n",
              "      <td>[-0.043238733, -0.026242362, 0.0061765215, -0....</td>\n",
              "      <td>0.842498</td>\n",
              "    </tr>\n",
              "    <tr>\n",
              "      <th>2</th>\n",
              "      <td>421998</td>\n",
              "      <td>['motivo cambio de límite Tarjeta', 'como renu...</td>\n",
              "      <td>NaN</td>\n",
              "      <td>motivo cambio de limite tarjeta como renunciar...</td>\n",
              "      <td>[-0.12729552, 0.06905968, -0.080994666, -0.075...</td>\n",
              "      <td>0.457227</td>\n",
              "      <td>[-0.12729552, 0.06905968, -0.080994666, -0.075...</td>\n",
              "      <td>0.457227</td>\n",
              "      <td>[0.35114053, -0.24000733, 0.6779311, -0.876988...</td>\n",
              "      <td>0.519672</td>\n",
              "      <td>[-0.028965719, 0.4119485, 0.04523738, 0.877965...</td>\n",
              "      <td>0.738847</td>\n",
              "      <td>[-0.0527733, 0.0033994697, 0.02993245, -0.0139...</td>\n",
              "      <td>0.814937</td>\n",
              "    </tr>\n",
              "    <tr>\n",
              "      <th>3</th>\n",
              "      <td>423029</td>\n",
              "      <td>['Qué hago para cambiar la forma de cobro de l...</td>\n",
              "      <td>NaN</td>\n",
              "      <td>que hago para cambiar la forma de cobro de la ...</td>\n",
              "      <td>[-0.1008265, 0.026075443, -0.042023044, -0.106...</td>\n",
              "      <td>0.376078</td>\n",
              "      <td>[-0.1008265, 0.026075443, -0.042023044, -0.106...</td>\n",
              "      <td>0.376078</td>\n",
              "      <td>[-0.12797742, -0.97483176, 0.7096605, 0.197163...</td>\n",
              "      <td>0.605897</td>\n",
              "      <td>[0.49374753, -0.26194438, 0.089569956, 0.30814...</td>\n",
              "      <td>0.710258</td>\n",
              "      <td>[-0.031788237, 0.008151135, 0.04830003, 0.0147...</td>\n",
              "      <td>0.779461</td>\n",
              "    </tr>\n",
              "    <tr>\n",
              "      <th>4</th>\n",
              "      <td>422618</td>\n",
              "      <td>['Por dónde veo los plazos de recepción de las...</td>\n",
              "      <td>NaN</td>\n",
              "      <td>por donde veo los plazos de recepcion de las t...</td>\n",
              "      <td>[-0.06829783, 0.0648448, -0.07408309, -0.08305...</td>\n",
              "      <td>0.435212</td>\n",
              "      <td>[-0.06829783, 0.0648448, -0.07408309, -0.08305...</td>\n",
              "      <td>0.435212</td>\n",
              "      <td>[0.054455537, -0.6434433, 0.06104442, 0.659452...</td>\n",
              "      <td>0.503544</td>\n",
              "      <td>[0.031954594, -0.016352661, -0.09663524, 0.226...</td>\n",
              "      <td>0.696087</td>\n",
              "      <td>[-0.03212525, -0.019531578, 0.03505223, 0.0109...</td>\n",
              "      <td>0.816509</td>\n",
              "    </tr>\n",
              "  </tbody>\n",
              "</table>\n",
              "</div>"
            ],
            "text/plain": [
              "   CODIGO_FAQ                                        variaciones  motivo  \\\n",
              "0      433243  ['Tarjeta para empleados Lidl', 'solicitar UNA...     NaN   \n",
              "1      419915  ['Anular cobro liquidación tarjeta oficina', '...     NaN   \n",
              "2      421998  ['motivo cambio de límite Tarjeta', 'como renu...     NaN   \n",
              "3      423029  ['Qué hago para cambiar la forma de cobro de l...     NaN   \n",
              "4      422618  ['Por dónde veo los plazos de recepción de las...     NaN   \n",
              "\n",
              "                                               texto  \\\n",
              "0  tarjeta para empleados lidl solicitar una tarj...   \n",
              "1  anular cobro liquidacion tarjeta oficina proce...   \n",
              "2  motivo cambio de limite tarjeta como renunciar...   \n",
              "3  que hago para cambiar la forma de cobro de la ...   \n",
              "4  por donde veo los plazos de recepcion de las t...   \n",
              "\n",
              "                                     embeddings_mini  score_mini  \\\n",
              "0  [-0.049297784, 0.06306262, -0.052778855, -0.04...    0.442777   \n",
              "1  [-0.026050719, -0.07427596, -0.05052995, -0.07...    0.308574   \n",
              "2  [-0.12729552, 0.06905968, -0.080994666, -0.075...    0.457227   \n",
              "3  [-0.1008265, 0.026075443, -0.042023044, -0.106...    0.376078   \n",
              "4  [-0.06829783, 0.0648448, -0.07408309, -0.08305...    0.435212   \n",
              "\n",
              "                                     embeddings_bert  score_bert  \\\n",
              "0  [-0.049297784, 0.06306262, -0.052778855, -0.04...    0.442777   \n",
              "1  [-0.026050719, -0.07427596, -0.05052995, -0.07...    0.308574   \n",
              "2  [-0.12729552, 0.06905968, -0.080994666, -0.075...    0.457227   \n",
              "3  [-0.1008265, 0.026075443, -0.042023044, -0.106...    0.376078   \n",
              "4  [-0.06829783, 0.0648448, -0.07408309, -0.08305...    0.435212   \n",
              "\n",
              "                                    embeddings_spacy  score_spacy  \\\n",
              "0  [0.06396655, -1.0102829, 0.100738235, 1.127394...     0.572986   \n",
              "1  [0.84611166, 0.28720096, 0.834923, -1.2378342,...     0.557424   \n",
              "2  [0.35114053, -0.24000733, 0.6779311, -0.876988...     0.519672   \n",
              "3  [-0.12797742, -0.97483176, 0.7096605, 0.197163...     0.605897   \n",
              "4  [0.054455537, -0.6434433, 0.06104442, 0.659452...     0.503544   \n",
              "\n",
              "                                    embeddings_mxbai  score_mxbai  \\\n",
              "0  [0.02481748, -0.03403738, -0.14437212, 0.72762...     0.723259   \n",
              "1  [0.48073822, -0.018162876, 0.223723, 0.5368666...     0.719180   \n",
              "2  [-0.028965719, 0.4119485, 0.04523738, 0.877965...     0.738847   \n",
              "3  [0.49374753, -0.26194438, 0.089569956, 0.30814...     0.710258   \n",
              "4  [0.031954594, -0.016352661, -0.09663524, 0.226...     0.696087   \n",
              "\n",
              "                                     embeddings_GIST  score_GIST  \n",
              "0  [-0.030527227, 0.0026669737, 0.01400228, 0.012...    0.819353  \n",
              "1  [-0.043238733, -0.026242362, 0.0061765215, -0....    0.842498  \n",
              "2  [-0.0527733, 0.0033994697, 0.02993245, -0.0139...    0.814937  \n",
              "3  [-0.031788237, 0.008151135, 0.04830003, 0.0147...    0.779461  \n",
              "4  [-0.03212525, -0.019531578, 0.03505223, 0.0109...    0.816509  "
            ]
          },
          "execution_count": 160,
          "metadata": {},
          "output_type": "execute_result"
        }
      ],
      "source": [
        "df_corpus_uoc_new.head()"
      ]
    },
    {
      "cell_type": "code",
      "execution_count": 161,
      "metadata": {},
      "outputs": [],
      "source": [
        "df_corpus_uoc_new[['CODIGO_FAQ','embeddings_mini','embeddings_bert', 'embeddings_spacy','embeddings_mxbai','embeddings_GIST','motivo','score_mini','score_bert','score_spacy','score_mxbai','score_GIST']].to_csv('data/variaciones_all_results_20240427.csv',sep=\"|\", index=None)"
      ]
    },
    {
      "cell_type": "code",
      "execution_count": null,
      "metadata": {},
      "outputs": [],
      "source": [
        "#df_corpus_uoc_new.sort_values(by='score_E5',ascending=False).all()\n",
        "#df_corpus_uoc_new.sort_values(by='score_spacy_trf',ascending=False)"
      ]
    },
    {
      "cell_type": "code",
      "execution_count": 162,
      "metadata": {},
      "outputs": [
        {
          "data": {
            "text/plain": [
              "104    0.894896\n",
              "122    0.885208\n",
              "115    0.878429\n",
              "38     0.877246\n",
              "131    0.873334\n",
              "         ...   \n",
              "297    0.716330\n",
              "275    0.709927\n",
              "369    0.708836\n",
              "235    0.708599\n",
              "382    0.694944\n",
              "Name: score_GIST, Length: 439, dtype: float32"
            ]
          },
          "execution_count": 162,
          "metadata": {},
          "output_type": "execute_result"
        }
      ],
      "source": [
        "#df_corpus_uoc_new.sort_values(by='score_mini',ascending=False)\n",
        "#df_corpus_uoc_new.sort_values(by='score_bert',ascending=False)\n",
        "#df_corpus_uoc_new.sort_values(by='score_spacy',ascending=False)\n",
        "#df_corpus_uoc_new['score_mxbai'].sort_values(ascending=False)\n",
        "df_corpus_uoc_new['score_GIST'].sort_values(ascending=False)\n"
      ]
    },
    {
      "cell_type": "code",
      "execution_count": null,
      "metadata": {},
      "outputs": [],
      "source": [
        "#print(\"score embeddings_E5: \\n\",df_corpus_uoc_new['score_E5'].sort_values(ascending=False))"
      ]
    },
    {
      "cell_type": "code",
      "execution_count": 163,
      "metadata": {},
      "outputs": [
        {
          "name": "stdout",
          "output_type": "stream",
          "text": [
            "score embeddings: \n",
            " 59     0.655298\n",
            "104    0.644096\n",
            "118    0.637363\n",
            "73     0.634919\n",
            "98     0.633164\n",
            "         ...   \n",
            "378    0.194065\n",
            "438    0.187185\n",
            "225    0.185076\n",
            "316    0.176290\n",
            "366    0.169287\n",
            "Name: score_mini, Length: 439, dtype: float32\n",
            "embeddings_bert: \n",
            " 59     0.655298\n",
            "104    0.644096\n",
            "118    0.637363\n",
            "73     0.634919\n",
            "98     0.633164\n",
            "         ...   \n",
            "378    0.194065\n",
            "438    0.187185\n",
            "225    0.185076\n",
            "316    0.176290\n",
            "366    0.169287\n",
            "Name: score_bert, Length: 439, dtype: float32\n",
            "score embeddings_spacy: \n",
            " 199    0.743910\n",
            "42     0.719312\n",
            "164    0.712431\n",
            "35     0.699497\n",
            "99     0.699264\n",
            "         ...   \n",
            "409    0.295848\n",
            "354    0.282002\n",
            "437    0.237751\n",
            "156    0.237059\n",
            "43     0.208197\n",
            "Name: score_spacy, Length: 439, dtype: float32\n",
            "score embeddings_mxbai: \n",
            " 164    0.845103\n",
            "59     0.827778\n",
            "35     0.816434\n",
            "104    0.802041\n",
            "180    0.800790\n",
            "         ...   \n",
            "259    0.548262\n",
            "223    0.543880\n",
            "356    0.541532\n",
            "274    0.537967\n",
            "278    0.532905\n",
            "Name: score_mxbai, Length: 439, dtype: float32\n",
            "score embeddings_GIST: \n",
            " 104    0.894896\n",
            "122    0.885208\n",
            "115    0.878429\n",
            "38     0.877246\n",
            "131    0.873334\n",
            "         ...   \n",
            "297    0.716330\n",
            "275    0.709927\n",
            "369    0.708836\n",
            "235    0.708599\n",
            "382    0.694944\n",
            "Name: score_GIST, Length: 439, dtype: float32\n"
          ]
        }
      ],
      "source": [
        "print(\"score embeddings: \\n\",df_corpus_uoc_new['score_mini'].sort_values(ascending=False))\n",
        "print(\"embeddings_bert: \\n\",df_corpus_uoc_new['score_bert'].sort_values(ascending=False))\n",
        "print(\"score embeddings_spacy: \\n\",df_corpus_uoc_new['score_spacy'].sort_values(ascending=False))\n",
        "print(\"score embeddings_mxbai: \\n\",df_corpus_uoc_new['score_mxbai'].sort_values(ascending=False))\n",
        "print(\"score embeddings_GIST: \\n\",df_corpus_uoc_new['score_GIST'].sort_values(ascending=False))"
      ]
    },
    {
      "cell_type": "code",
      "execution_count": 164,
      "metadata": {},
      "outputs": [
        {
          "name": "stdout",
          "output_type": "stream",
          "text": [
            "     CODIGO_FAQ  score_mini\n",
            "59       435574    0.655298\n",
            "104      418183    0.644096\n",
            "118  1986776089    0.637363\n",
            "73       418649    0.634919\n",
            "98       308737    0.633164\n"
          ]
        }
      ],
      "source": [
        "# Get index of the 5 highest score_mini's rows \n",
        "indices_max_scores_mini = df_corpus_uoc_new['score_mini'].nlargest(5).index\n",
        "\n",
        "# print scores and codes\n",
        "codes_max_scores_mini = df_corpus_uoc_new.loc[indices_max_scores_mini, ['CODIGO_FAQ','score_mini']] \n",
        "print(codes_max_scores_mini)"
      ]
    },
    {
      "cell_type": "code",
      "execution_count": 165,
      "metadata": {},
      "outputs": [
        {
          "name": "stdout",
          "output_type": "stream",
          "text": [
            "     CODIGO_FAQ  score_bert\n",
            "59       435574    0.655298\n",
            "104      418183    0.644096\n",
            "118  1986776089    0.637363\n",
            "73       418649    0.634919\n",
            "98       308737    0.633164\n"
          ]
        }
      ],
      "source": [
        "# Get index of the 5 highest score_bert's rows \n",
        "indices_max_scores_bert = df_corpus_uoc_new['score_bert'].nlargest(5).index\n",
        "\n",
        "# print scores and codes\n",
        "codes_max_scores_bert = df_corpus_uoc_new.loc[indices_max_scores_bert, ['CODIGO_FAQ','score_bert']] \n",
        "print(codes_max_scores_bert)"
      ]
    },
    {
      "cell_type": "code",
      "execution_count": 166,
      "metadata": {},
      "outputs": [
        {
          "name": "stdout",
          "output_type": "stream",
          "text": [
            "     CODIGO_FAQ  score_spacy\n",
            "199      418363     0.743910\n",
            "42       431150     0.719312\n",
            "164      446600     0.712431\n",
            "35       437885     0.699497\n",
            "99       192252     0.699264\n"
          ]
        }
      ],
      "source": [
        "# Get index of the 5 highest score_spacy's rows \n",
        "indices_max_scores_spacy = df_corpus_uoc_new['score_spacy'].nlargest(5).index\n",
        "\n",
        "# print scores and codes\n",
        "codes_max_scores_spacy = df_corpus_uoc_new.loc[indices_max_scores_spacy, ['CODIGO_FAQ','score_spacy']] \n",
        "print(codes_max_scores_spacy)"
      ]
    },
    {
      "cell_type": "code",
      "execution_count": 167,
      "metadata": {},
      "outputs": [
        {
          "name": "stdout",
          "output_type": "stream",
          "text": [
            "     CODIGO_FAQ  score_mxbai\n",
            "164      446600     0.845103\n",
            "59       435574     0.827778\n",
            "35       437885     0.816434\n",
            "104      418183     0.802041\n",
            "180      419303     0.800790\n"
          ]
        }
      ],
      "source": [
        "# Get index of the 5 highest score_mxbai's rows \n",
        "indices_max_scores_mxbai = df_corpus_uoc_new['score_mxbai'].nlargest(5).index\n",
        "\n",
        "# print scores and codes\n",
        "codes_max_scores_mxbai = df_corpus_uoc_new.loc[indices_max_scores_mxbai, ['CODIGO_FAQ','score_mxbai']] \n",
        "print(codes_max_scores_mxbai)"
      ]
    },
    {
      "cell_type": "code",
      "execution_count": 168,
      "metadata": {},
      "outputs": [
        {
          "name": "stdout",
          "output_type": "stream",
          "text": [
            "     CODIGO_FAQ  score_GIST\n",
            "104      418183    0.894896\n",
            "122      418606    0.885208\n",
            "115      422985    0.878429\n",
            "38       442151    0.877246\n",
            "131      446104    0.873334\n"
          ]
        }
      ],
      "source": [
        "# Get index of the 5 highest score_GIST's rows \n",
        "indices_max_scores_GIST= df_corpus_uoc_new['score_GIST'].nlargest(5).index\n",
        "\n",
        "# print scores and codes\n",
        "codes_max_scores_GIST = df_corpus_uoc_new.loc[indices_max_scores_GIST, ['CODIGO_FAQ','score_GIST']] \n",
        "print(codes_max_scores_GIST)"
      ]
    },
    {
      "cell_type": "code",
      "execution_count": 169,
      "metadata": {},
      "outputs": [],
      "source": [
        "df_corpus_final = df_corpus_uoc_new[['CODIGO_FAQ','embeddings_GIST','motivo']]\n",
        "df_corpus_final = df_corpus_final.rename(columns={'embeddings_GIST':'embeddings'})\n",
        "df_corpus_final.to_csv('../FastAPI/db/data/embedding/variaciones_embedding_gist_20240427.csv',sep=\"|\", index=None)\n",
        "df_corpus_final.to_pickle('../FastAPI/db/data/embedding/variaciones_embedding_gist_20240427.pkl')"
      ]
    },
    {
      "cell_type": "code",
      "execution_count": 170,
      "metadata": {},
      "outputs": [],
      "source": [
        "df_corpus_final_mini = df_corpus_uoc_new[['CODIGO_FAQ','embeddings_mini','motivo']]\n",
        "df_corpus_final_mini = df_corpus_final_mini.rename(columns={'embeddings_mini':'embeddings'})\n",
        "df_corpus_final_mini.to_csv('../FastAPI/db/data/embedding/variaciones_embedding_mini_20240427.csv',sep=\"|\", index=None)\n",
        "df_corpus_final_mini.to_pickle('../FastAPI/db/data/embedding/variaciones_embedding_mini_20240427.pkl')"
      ]
    },
    {
      "cell_type": "code",
      "execution_count": null,
      "metadata": {},
      "outputs": [],
      "source": [
        "#df_load = pd.read_pickle('../FastAPI/db/data/corpus/variaciones_embedding_gist_20240407.pkl')\n",
        "#df_load = pd.read_csv('../FastAPI/db/data/corpus/variaciones_embedding_gist_20240407_str.csv',sep=\"|\")\n",
        "#df_load.head()\n",
        "#df_corpus_final.to_csv('../FastAPI/db/data/corpus/variaciones_embedding_gist_20240407.csv',sep=\"|\", index=None)\n",
        "#df_corpus_final.to_pickle('../FastAPI/db/data/corpus/variaciones_embedding_gist_20240407.pkl')"
      ]
    },
    {
      "cell_type": "code",
      "execution_count": null,
      "metadata": {
        "gather": {
          "logged": 1702406705693
        },
        "jupyter": {
          "outputs_hidden": false,
          "source_hidden": false
        },
        "nteract": {
          "transient": {
            "deleting": false
          }
        }
      },
      "outputs": [],
      "source": [
        "def to_lista(text):\n",
        "    if str(type(text)) == \"<class 'str'>\":\n",
        "        return text.replace(\"'\",\"\")[1:-1].split('\\n ')\n",
        "    else:\n",
        "        return text"
      ]
    },
    {
      "cell_type": "code",
      "execution_count": null,
      "metadata": {
        "gather": {
          "logged": 1702406799757
        },
        "jupyter": {
          "outputs_hidden": false,
          "source_hidden": false
        },
        "nteract": {
          "transient": {
            "deleting": false
          }
        }
      },
      "outputs": [],
      "source": [
        "#df_corpus['variaciones'] = df_corpus['variaciones'].apply(to_lista)"
      ]
    },
    {
      "cell_type": "code",
      "execution_count": 171,
      "metadata": {},
      "outputs": [],
      "source": [
        "df_corpus_proj = pd.read_pickle('data/corpus_con_variaciones_20240427_uoc_ofuscado.pkl')\n",
        "df_corpus_proj.head()\n",
        "df_corpus_proj[['CODIGO_FAQ','title_found','body texto','variaciones','num_variaciones','motivo','intent','num_tokens']].to_pickle('../FastAPI/db/data/corpus/corpus_variaciones_20240427.pkl')\n",
        "df_corpus_proj[['CODIGO_FAQ','title_found','body texto','variaciones','num_variaciones','motivo','intent','num_tokens']].to_csv('../FastAPI/db/data/corpus/corpus_variaciones_20240427.csv',sep=\"|\", index=None)"
      ]
    }
  ],
  "metadata": {
    "kernel_info": {
      "name": "python310-sdkv2"
    },
    "kernelspec": {
      "display_name": "Python 3",
      "language": "python",
      "name": "python3"
    },
    "language_info": {
      "codemirror_mode": {
        "name": "ipython",
        "version": 3
      },
      "file_extension": ".py",
      "mimetype": "text/x-python",
      "name": "python",
      "nbconvert_exporter": "python",
      "pygments_lexer": "ipython3",
      "version": "3.12.2"
    },
    "microsoft": {
      "host": {
        "AzureML": {
          "notebookHasBeenCompleted": true
        }
      },
      "ms_spell_check": {
        "ms_spell_check_language": "es"
      }
    },
    "nteract": {
      "version": "nteract-front-end@1.0.0"
    }
  },
  "nbformat": 4,
  "nbformat_minor": 2
}
