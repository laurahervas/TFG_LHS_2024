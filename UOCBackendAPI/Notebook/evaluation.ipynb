{
 "cells": [
  {
   "cell_type": "code",
   "execution_count": null,
   "metadata": {},
   "outputs": [],
   "source": [
    "###Task Description:\n",
    "prompt_eval = \"\"\"An instruction (might include an Input inside it), a response to evaluate, a reference answer that gets a score of 5, and a score rubric representing a evaluation criteria are given.\n",
    "1. Write a detailed feedback that assess the quality of the response strictly based on the given score rubric, not evaluating in general.\n",
    "2. After writing a feedback, write a score that is an integer between 1 and 5. You should refer to the score rubric.\n",
    "3. The output format should look as follows: \"Feedback: (write a feedback for criteria) [RESULT] (an integer number between 1 and 5)\"\n",
    "4. Please do not generate any other opening, closing, and explanations.\n",
    "\n",
    "###The instruction to evaluate:\n",
    "{orig_instruction}\n",
    "\n",
    "###Response to evaluate:\n",
    "{orig_response}\n",
    "\n",
    "###Reference Answer (Score 5):\n",
    "{orig_reference_answer}\n",
    "\n",
    "###Score Rubrics:\n",
    "[{orig_criteria}]\n",
    "Score 1: {orig_score1_description}\n",
    "Score 2: {orig_score2_description}\n",
    "Score 3: {orig_score3_description}\n",
    "Score 4: {orig_score4_description}\n",
    "Score 5: {orig_score5_description}\n",
    "\n",
    "###Feedback:\n",
    "\"\"\""
   ]
  },
  {
   "cell_type": "code",
   "execution_count": 1,
   "metadata": {},
   "outputs": [
    {
     "name": "stdout",
     "output_type": "stream",
     "text": [
      "Collecting llama_index\n",
      "  Downloading llama_index-0.10.39-py3-none-any.whl.metadata (11 kB)\n",
      "Collecting llama-index-agent-openai<0.3.0,>=0.1.4 (from llama_index)\n",
      "  Downloading llama_index_agent_openai-0.2.5-py3-none-any.whl.metadata (678 bytes)\n",
      "Collecting llama-index-cli<0.2.0,>=0.1.2 (from llama_index)\n",
      "  Downloading llama_index_cli-0.1.12-py3-none-any.whl.metadata (1.5 kB)\n",
      "Collecting llama-index-core<0.11.0,>=0.10.39 (from llama_index)\n",
      "  Downloading llama_index_core-0.10.39.post1-py3-none-any.whl.metadata (2.5 kB)\n",
      "Collecting llama-index-embeddings-openai<0.2.0,>=0.1.5 (from llama_index)\n",
      "  Downloading llama_index_embeddings_openai-0.1.10-py3-none-any.whl.metadata (604 bytes)\n",
      "Collecting llama-index-indices-managed-llama-cloud<0.2.0,>=0.1.2 (from llama_index)\n",
      "  Downloading llama_index_indices_managed_llama_cloud-0.1.6-py3-none-any.whl.metadata (3.8 kB)\n",
      "Collecting llama-index-legacy<0.10.0,>=0.9.48 (from llama_index)\n",
      "  Downloading llama_index_legacy-0.9.48-py3-none-any.whl.metadata (8.5 kB)\n",
      "Collecting llama-index-llms-openai<0.2.0,>=0.1.13 (from llama_index)\n",
      "  Downloading llama_index_llms_openai-0.1.21-py3-none-any.whl.metadata (559 bytes)\n",
      "Collecting llama-index-multi-modal-llms-openai<0.2.0,>=0.1.3 (from llama_index)\n",
      "  Downloading llama_index_multi_modal_llms_openai-0.1.6-py3-none-any.whl.metadata (677 bytes)\n",
      "Collecting llama-index-program-openai<0.2.0,>=0.1.3 (from llama_index)\n",
      "  Downloading llama_index_program_openai-0.1.6-py3-none-any.whl.metadata (715 bytes)\n",
      "Collecting llama-index-question-gen-openai<0.2.0,>=0.1.2 (from llama_index)\n",
      "  Downloading llama_index_question_gen_openai-0.1.3-py3-none-any.whl.metadata (785 bytes)\n",
      "Collecting llama-index-readers-file<0.2.0,>=0.1.4 (from llama_index)\n",
      "  Downloading llama_index_readers_file-0.1.23-py3-none-any.whl.metadata (5.4 kB)\n",
      "Collecting llama-index-readers-llama-parse<0.2.0,>=0.1.2 (from llama_index)\n",
      "  Downloading llama_index_readers_llama_parse-0.1.4-py3-none-any.whl.metadata (3.5 kB)\n",
      "Requirement already satisfied: openai>=1.14.0 in /Library/Frameworks/Python.framework/Versions/3.12/lib/python3.12/site-packages (from llama-index-agent-openai<0.3.0,>=0.1.4->llama_index) (1.14.3)\n",
      "Requirement already satisfied: PyYAML>=6.0.1 in /Library/Frameworks/Python.framework/Versions/3.12/lib/python3.12/site-packages (from llama-index-core<0.11.0,>=0.10.39->llama_index) (6.0.1)\n",
      "Requirement already satisfied: SQLAlchemy>=1.4.49 in /Library/Frameworks/Python.framework/Versions/3.12/lib/python3.12/site-packages (from SQLAlchemy[asyncio]>=1.4.49->llama-index-core<0.11.0,>=0.10.39->llama_index) (2.0.29)\n",
      "Collecting aiohttp<4.0.0,>=3.8.6 (from llama-index-core<0.11.0,>=0.10.39->llama_index)\n",
      "  Downloading aiohttp-3.9.5-cp312-cp312-macosx_11_0_arm64.whl.metadata (7.5 kB)\n",
      "Collecting dataclasses-json (from llama-index-core<0.11.0,>=0.10.39->llama_index)\n",
      "  Downloading dataclasses_json-0.6.6-py3-none-any.whl.metadata (25 kB)\n",
      "Collecting deprecated>=1.2.9.3 (from llama-index-core<0.11.0,>=0.10.39->llama_index)\n",
      "  Downloading Deprecated-1.2.14-py2.py3-none-any.whl.metadata (5.4 kB)\n",
      "Collecting dirtyjson<2.0.0,>=1.0.8 (from llama-index-core<0.11.0,>=0.10.39->llama_index)\n",
      "  Downloading dirtyjson-1.0.8-py3-none-any.whl.metadata (11 kB)\n",
      "Requirement already satisfied: fsspec>=2023.5.0 in /Library/Frameworks/Python.framework/Versions/3.12/lib/python3.12/site-packages (from llama-index-core<0.11.0,>=0.10.39->llama_index) (2024.3.1)\n",
      "Requirement already satisfied: httpx in /Library/Frameworks/Python.framework/Versions/3.12/lib/python3.12/site-packages (from llama-index-core<0.11.0,>=0.10.39->llama_index) (0.25.2)\n",
      "Collecting llamaindex-py-client<0.2.0,>=0.1.18 (from llama-index-core<0.11.0,>=0.10.39->llama_index)\n",
      "  Downloading llamaindex_py_client-0.1.19-py3-none-any.whl.metadata (760 bytes)\n",
      "Requirement already satisfied: nest-asyncio<2.0.0,>=1.5.8 in /Users/laurahervas/Library/Python/3.12/lib/python/site-packages (from llama-index-core<0.11.0,>=0.10.39->llama_index) (1.6.0)\n",
      "Requirement already satisfied: networkx>=3.0 in /Library/Frameworks/Python.framework/Versions/3.12/lib/python3.12/site-packages (from llama-index-core<0.11.0,>=0.10.39->llama_index) (3.2.1)\n",
      "Collecting nltk<4.0.0,>=3.8.1 (from llama-index-core<0.11.0,>=0.10.39->llama_index)\n",
      "  Downloading nltk-3.8.1-py3-none-any.whl.metadata (2.8 kB)\n",
      "Requirement already satisfied: numpy in /Library/Frameworks/Python.framework/Versions/3.12/lib/python3.12/site-packages (from llama-index-core<0.11.0,>=0.10.39->llama_index) (1.26.4)\n",
      "Requirement already satisfied: pandas in /Library/Frameworks/Python.framework/Versions/3.12/lib/python3.12/site-packages (from llama-index-core<0.11.0,>=0.10.39->llama_index) (2.2.1)\n",
      "Requirement already satisfied: pillow>=9.0.0 in /Library/Frameworks/Python.framework/Versions/3.12/lib/python3.12/site-packages (from llama-index-core<0.11.0,>=0.10.39->llama_index) (10.2.0)\n",
      "Requirement already satisfied: requests>=2.31.0 in /Library/Frameworks/Python.framework/Versions/3.12/lib/python3.12/site-packages (from llama-index-core<0.11.0,>=0.10.39->llama_index) (2.31.0)\n",
      "Collecting tenacity<9.0.0,>=8.2.0 (from llama-index-core<0.11.0,>=0.10.39->llama_index)\n",
      "  Downloading tenacity-8.3.0-py3-none-any.whl.metadata (1.2 kB)\n",
      "Requirement already satisfied: tiktoken>=0.3.3 in /Library/Frameworks/Python.framework/Versions/3.12/lib/python3.12/site-packages (from llama-index-core<0.11.0,>=0.10.39->llama_index) (0.6.0)\n",
      "Requirement already satisfied: tqdm<5.0.0,>=4.66.1 in /Library/Frameworks/Python.framework/Versions/3.12/lib/python3.12/site-packages (from llama-index-core<0.11.0,>=0.10.39->llama_index) (4.66.2)\n",
      "Requirement already satisfied: typing-extensions>=4.5.0 in /Library/Frameworks/Python.framework/Versions/3.12/lib/python3.12/site-packages (from llama-index-core<0.11.0,>=0.10.39->llama_index) (4.11.0)\n",
      "Collecting typing-inspect>=0.8.0 (from llama-index-core<0.11.0,>=0.10.39->llama_index)\n",
      "  Downloading typing_inspect-0.9.0-py3-none-any.whl.metadata (1.5 kB)\n",
      "Requirement already satisfied: wrapt in /Library/Frameworks/Python.framework/Versions/3.12/lib/python3.12/site-packages (from llama-index-core<0.11.0,>=0.10.39->llama_index) (1.16.0)\n",
      "Collecting beautifulsoup4<5.0.0,>=4.12.3 (from llama-index-readers-file<0.2.0,>=0.1.4->llama_index)\n",
      "  Downloading beautifulsoup4-4.12.3-py3-none-any.whl.metadata (3.8 kB)\n",
      "Collecting pypdf<5.0.0,>=4.0.1 (from llama-index-readers-file<0.2.0,>=0.1.4->llama_index)\n",
      "  Downloading pypdf-4.2.0-py3-none-any.whl.metadata (7.4 kB)\n",
      "Collecting striprtf<0.0.27,>=0.0.26 (from llama-index-readers-file<0.2.0,>=0.1.4->llama_index)\n",
      "  Downloading striprtf-0.0.26-py3-none-any.whl.metadata (2.1 kB)\n",
      "Collecting llama-parse<0.5.0,>=0.4.0 (from llama-index-readers-llama-parse<0.2.0,>=0.1.2->llama_index)\n",
      "  Downloading llama_parse-0.4.3-py3-none-any.whl.metadata (3.5 kB)\n",
      "Collecting aiosignal>=1.1.2 (from aiohttp<4.0.0,>=3.8.6->llama-index-core<0.11.0,>=0.10.39->llama_index)\n",
      "  Downloading aiosignal-1.3.1-py3-none-any.whl.metadata (4.0 kB)\n",
      "Collecting attrs>=17.3.0 (from aiohttp<4.0.0,>=3.8.6->llama-index-core<0.11.0,>=0.10.39->llama_index)\n",
      "  Downloading attrs-23.2.0-py3-none-any.whl.metadata (9.5 kB)\n",
      "Collecting frozenlist>=1.1.1 (from aiohttp<4.0.0,>=3.8.6->llama-index-core<0.11.0,>=0.10.39->llama_index)\n",
      "  Downloading frozenlist-1.4.1-cp312-cp312-macosx_11_0_arm64.whl.metadata (12 kB)\n",
      "Collecting multidict<7.0,>=4.5 (from aiohttp<4.0.0,>=3.8.6->llama-index-core<0.11.0,>=0.10.39->llama_index)\n",
      "  Downloading multidict-6.0.5-cp312-cp312-macosx_11_0_arm64.whl.metadata (4.2 kB)\n",
      "Collecting yarl<2.0,>=1.0 (from aiohttp<4.0.0,>=3.8.6->llama-index-core<0.11.0,>=0.10.39->llama_index)\n",
      "  Downloading yarl-1.9.4-cp312-cp312-macosx_11_0_arm64.whl.metadata (31 kB)\n",
      "Collecting soupsieve>1.2 (from beautifulsoup4<5.0.0,>=4.12.3->llama-index-readers-file<0.2.0,>=0.1.4->llama_index)\n",
      "  Downloading soupsieve-2.5-py3-none-any.whl.metadata (4.7 kB)\n",
      "Requirement already satisfied: pydantic>=1.10 in /Library/Frameworks/Python.framework/Versions/3.12/lib/python3.12/site-packages (from llamaindex-py-client<0.2.0,>=0.1.18->llama-index-core<0.11.0,>=0.10.39->llama_index) (2.7.0)\n",
      "Requirement already satisfied: anyio in /Library/Frameworks/Python.framework/Versions/3.12/lib/python3.12/site-packages (from httpx->llama-index-core<0.11.0,>=0.10.39->llama_index) (4.3.0)\n",
      "Requirement already satisfied: certifi in /Library/Frameworks/Python.framework/Versions/3.12/lib/python3.12/site-packages (from httpx->llama-index-core<0.11.0,>=0.10.39->llama_index) (2024.2.2)\n",
      "Requirement already satisfied: httpcore==1.* in /Library/Frameworks/Python.framework/Versions/3.12/lib/python3.12/site-packages (from httpx->llama-index-core<0.11.0,>=0.10.39->llama_index) (1.0.4)\n",
      "Requirement already satisfied: idna in /Library/Frameworks/Python.framework/Versions/3.12/lib/python3.12/site-packages (from httpx->llama-index-core<0.11.0,>=0.10.39->llama_index) (3.6)\n",
      "Requirement already satisfied: sniffio in /Library/Frameworks/Python.framework/Versions/3.12/lib/python3.12/site-packages (from httpx->llama-index-core<0.11.0,>=0.10.39->llama_index) (1.3.1)\n",
      "Requirement already satisfied: h11<0.15,>=0.13 in /Library/Frameworks/Python.framework/Versions/3.12/lib/python3.12/site-packages (from httpcore==1.*->httpx->llama-index-core<0.11.0,>=0.10.39->llama_index) (0.14.0)\n",
      "Requirement already satisfied: click in /Library/Frameworks/Python.framework/Versions/3.12/lib/python3.12/site-packages (from nltk<4.0.0,>=3.8.1->llama-index-core<0.11.0,>=0.10.39->llama_index) (8.1.7)\n",
      "Requirement already satisfied: joblib in /Library/Frameworks/Python.framework/Versions/3.12/lib/python3.12/site-packages (from nltk<4.0.0,>=3.8.1->llama-index-core<0.11.0,>=0.10.39->llama_index) (1.3.2)\n",
      "Requirement already satisfied: regex>=2021.8.3 in /Library/Frameworks/Python.framework/Versions/3.12/lib/python3.12/site-packages (from nltk<4.0.0,>=3.8.1->llama-index-core<0.11.0,>=0.10.39->llama_index) (2023.12.25)\n",
      "Requirement already satisfied: distro<2,>=1.7.0 in /Library/Frameworks/Python.framework/Versions/3.12/lib/python3.12/site-packages (from openai>=1.14.0->llama-index-agent-openai<0.3.0,>=0.1.4->llama_index) (1.9.0)\n",
      "Requirement already satisfied: charset-normalizer<4,>=2 in /Library/Frameworks/Python.framework/Versions/3.12/lib/python3.12/site-packages (from requests>=2.31.0->llama-index-core<0.11.0,>=0.10.39->llama_index) (3.3.2)\n",
      "Requirement already satisfied: urllib3<3,>=1.21.1 in /Library/Frameworks/Python.framework/Versions/3.12/lib/python3.12/site-packages (from requests>=2.31.0->llama-index-core<0.11.0,>=0.10.39->llama_index) (2.2.1)\n",
      "Collecting greenlet!=0.4.17 (from SQLAlchemy[asyncio]>=1.4.49->llama-index-core<0.11.0,>=0.10.39->llama_index)\n",
      "  Downloading greenlet-3.0.3-cp312-cp312-macosx_11_0_universal2.whl.metadata (3.8 kB)\n",
      "Collecting mypy-extensions>=0.3.0 (from typing-inspect>=0.8.0->llama-index-core<0.11.0,>=0.10.39->llama_index)\n",
      "  Downloading mypy_extensions-1.0.0-py3-none-any.whl.metadata (1.1 kB)\n",
      "Collecting marshmallow<4.0.0,>=3.18.0 (from dataclasses-json->llama-index-core<0.11.0,>=0.10.39->llama_index)\n",
      "  Downloading marshmallow-3.21.2-py3-none-any.whl.metadata (7.1 kB)\n",
      "Requirement already satisfied: python-dateutil>=2.8.2 in /Users/laurahervas/Library/Python/3.12/lib/python/site-packages (from pandas->llama-index-core<0.11.0,>=0.10.39->llama_index) (2.9.0.post0)\n",
      "Requirement already satisfied: pytz>=2020.1 in /Library/Frameworks/Python.framework/Versions/3.12/lib/python3.12/site-packages (from pandas->llama-index-core<0.11.0,>=0.10.39->llama_index) (2024.1)\n",
      "Requirement already satisfied: tzdata>=2022.7 in /Library/Frameworks/Python.framework/Versions/3.12/lib/python3.12/site-packages (from pandas->llama-index-core<0.11.0,>=0.10.39->llama_index) (2024.1)\n",
      "Requirement already satisfied: packaging>=17.0 in /Library/Frameworks/Python.framework/Versions/3.12/lib/python3.12/site-packages (from marshmallow<4.0.0,>=3.18.0->dataclasses-json->llama-index-core<0.11.0,>=0.10.39->llama_index) (23.2)\n",
      "Requirement already satisfied: annotated-types>=0.4.0 in /Library/Frameworks/Python.framework/Versions/3.12/lib/python3.12/site-packages (from pydantic>=1.10->llamaindex-py-client<0.2.0,>=0.1.18->llama-index-core<0.11.0,>=0.10.39->llama_index) (0.6.0)\n",
      "Requirement already satisfied: pydantic-core==2.18.1 in /Library/Frameworks/Python.framework/Versions/3.12/lib/python3.12/site-packages (from pydantic>=1.10->llamaindex-py-client<0.2.0,>=0.1.18->llama-index-core<0.11.0,>=0.10.39->llama_index) (2.18.1)\n",
      "Requirement already satisfied: six>=1.5 in /Library/Frameworks/Python.framework/Versions/3.12/lib/python3.12/site-packages (from python-dateutil>=2.8.2->pandas->llama-index-core<0.11.0,>=0.10.39->llama_index) (1.16.0)\n",
      "Downloading llama_index-0.10.39-py3-none-any.whl (6.8 kB)\n",
      "Downloading llama_index_agent_openai-0.2.5-py3-none-any.whl (13 kB)\n",
      "Downloading llama_index_cli-0.1.12-py3-none-any.whl (26 kB)\n",
      "Downloading llama_index_core-0.10.39.post1-py3-none-any.whl (15.4 MB)\n",
      "\u001b[2K   \u001b[90m━━━━━━━━━━━━━━━━━━━━━━━━━━━━━━━━━━━━━━━━\u001b[0m \u001b[32m15.4/15.4 MB\u001b[0m \u001b[31m46.0 MB/s\u001b[0m eta \u001b[36m0:00:00\u001b[0m00:01\u001b[0m00:01\u001b[0m\n",
      "\u001b[?25hDownloading llama_index_embeddings_openai-0.1.10-py3-none-any.whl (6.2 kB)\n",
      "Downloading llama_index_indices_managed_llama_cloud-0.1.6-py3-none-any.whl (6.7 kB)\n",
      "Downloading llama_index_legacy-0.9.48-py3-none-any.whl (2.0 MB)\n",
      "\u001b[2K   \u001b[90m━━━━━━━━━━━━━━━━━━━━━━━━━━━━━━━━━━━━━━━━\u001b[0m \u001b[32m2.0/2.0 MB\u001b[0m \u001b[31m30.4 MB/s\u001b[0m eta \u001b[36m0:00:00\u001b[0ma \u001b[36m0:00:01\u001b[0m\n",
      "\u001b[?25hDownloading llama_index_llms_openai-0.1.21-py3-none-any.whl (11 kB)\n",
      "Downloading llama_index_multi_modal_llms_openai-0.1.6-py3-none-any.whl (5.8 kB)\n",
      "Downloading llama_index_program_openai-0.1.6-py3-none-any.whl (5.2 kB)\n",
      "Downloading llama_index_question_gen_openai-0.1.3-py3-none-any.whl (2.9 kB)\n",
      "Downloading llama_index_readers_file-0.1.23-py3-none-any.whl (36 kB)\n",
      "Downloading llama_index_readers_llama_parse-0.1.4-py3-none-any.whl (2.5 kB)\n",
      "Downloading aiohttp-3.9.5-cp312-cp312-macosx_11_0_arm64.whl (392 kB)\n",
      "\u001b[2K   \u001b[90m━━━━━━━━━━━━━━━━━━━━━━━━━━━━━━━━━━━━━━━━\u001b[0m \u001b[32m392.4/392.4 kB\u001b[0m \u001b[31m19.0 MB/s\u001b[0m eta \u001b[36m0:00:00\u001b[0m\n",
      "\u001b[?25hDownloading beautifulsoup4-4.12.3-py3-none-any.whl (147 kB)\n",
      "\u001b[2K   \u001b[90m━━━━━━━━━━━━━━━━━━━━━━━━━━━━━━━━━━━━━━━━\u001b[0m \u001b[32m147.9/147.9 kB\u001b[0m \u001b[31m7.1 MB/s\u001b[0m eta \u001b[36m0:00:00\u001b[0m\n",
      "\u001b[?25hDownloading Deprecated-1.2.14-py2.py3-none-any.whl (9.6 kB)\n",
      "Downloading dirtyjson-1.0.8-py3-none-any.whl (25 kB)\n",
      "Downloading llama_parse-0.4.3-py3-none-any.whl (7.7 kB)\n",
      "Downloading llamaindex_py_client-0.1.19-py3-none-any.whl (141 kB)\n",
      "\u001b[2K   \u001b[90m━━━━━━━━━━━━━━━━━━━━━━━━━━━━━━━━━━━━━━━━\u001b[0m \u001b[32m141.9/141.9 kB\u001b[0m \u001b[31m13.5 MB/s\u001b[0m eta \u001b[36m0:00:00\u001b[0m\n",
      "\u001b[?25hDownloading nltk-3.8.1-py3-none-any.whl (1.5 MB)\n",
      "\u001b[2K   \u001b[90m━━━━━━━━━━━━━━━━━━━━━━━━━━━━━━━━━━━━━━━━\u001b[0m \u001b[32m1.5/1.5 MB\u001b[0m \u001b[31m35.7 MB/s\u001b[0m eta \u001b[36m0:00:00\u001b[0m00:01\u001b[0m\n",
      "\u001b[?25hDownloading pypdf-4.2.0-py3-none-any.whl (290 kB)\n",
      "\u001b[2K   \u001b[90m━━━━━━━━━━━━━━━━━━━━━━━━━━━━━━━━━━━━━━━━\u001b[0m \u001b[32m290.4/290.4 kB\u001b[0m \u001b[31m18.4 MB/s\u001b[0m eta \u001b[36m0:00:00\u001b[0m\n",
      "\u001b[?25hDownloading striprtf-0.0.26-py3-none-any.whl (6.9 kB)\n",
      "Downloading tenacity-8.3.0-py3-none-any.whl (25 kB)\n",
      "Downloading typing_inspect-0.9.0-py3-none-any.whl (8.8 kB)\n",
      "Downloading dataclasses_json-0.6.6-py3-none-any.whl (28 kB)\n",
      "Downloading aiosignal-1.3.1-py3-none-any.whl (7.6 kB)\n",
      "Downloading attrs-23.2.0-py3-none-any.whl (60 kB)\n",
      "\u001b[2K   \u001b[90m━━━━━━━━━━━━━━━━━━━━━━━━━━━━━━━━━━━━━━━━\u001b[0m \u001b[32m60.8/60.8 kB\u001b[0m \u001b[31m6.5 MB/s\u001b[0m eta \u001b[36m0:00:00\u001b[0m\n",
      "\u001b[?25hDownloading frozenlist-1.4.1-cp312-cp312-macosx_11_0_arm64.whl (51 kB)\n",
      "\u001b[2K   \u001b[90m━━━━━━━━━━━━━━━━━━━━━━━━━━━━━━━━━━━━━━━━\u001b[0m \u001b[32m51.9/51.9 kB\u001b[0m \u001b[31m5.3 MB/s\u001b[0m eta \u001b[36m0:00:00\u001b[0m\n",
      "\u001b[?25hDownloading greenlet-3.0.3-cp312-cp312-macosx_11_0_universal2.whl (273 kB)\n",
      "\u001b[2K   \u001b[90m━━━━━━━━━━━━━━━━━━━━━━━━━━━━━━━━━━━━━━━━\u001b[0m \u001b[32m273.1/273.1 kB\u001b[0m \u001b[31m22.7 MB/s\u001b[0m eta \u001b[36m0:00:00\u001b[0m\n",
      "\u001b[?25hDownloading marshmallow-3.21.2-py3-none-any.whl (49 kB)\n",
      "\u001b[2K   \u001b[90m━━━━━━━━━━━━━━━━━━━━━━━━━━━━━━━━━━━━━━━━\u001b[0m \u001b[32m49.3/49.3 kB\u001b[0m \u001b[31m3.7 MB/s\u001b[0m eta \u001b[36m0:00:00\u001b[0m\n",
      "\u001b[?25hDownloading multidict-6.0.5-cp312-cp312-macosx_11_0_arm64.whl (29 kB)\n",
      "Downloading mypy_extensions-1.0.0-py3-none-any.whl (4.7 kB)\n",
      "Downloading soupsieve-2.5-py3-none-any.whl (36 kB)\n",
      "Downloading yarl-1.9.4-cp312-cp312-macosx_11_0_arm64.whl (79 kB)\n",
      "\u001b[2K   \u001b[90m━━━━━━━━━━━━━━━━━━━━━━━━━━━━━━━━━━━━━━━━\u001b[0m \u001b[32m79.4/79.4 kB\u001b[0m \u001b[31m6.9 MB/s\u001b[0m eta \u001b[36m0:00:00\u001b[0m\n",
      "\u001b[?25hInstalling collected packages: striprtf, dirtyjson, tenacity, soupsieve, pypdf, nltk, mypy-extensions, multidict, marshmallow, greenlet, frozenlist, deprecated, attrs, yarl, typing-inspect, beautifulsoup4, aiosignal, llamaindex-py-client, dataclasses-json, aiohttp, llama-index-legacy, llama-index-core, llama-parse, llama-index-readers-file, llama-index-llms-openai, llama-index-indices-managed-llama-cloud, llama-index-embeddings-openai, llama-index-readers-llama-parse, llama-index-multi-modal-llms-openai, llama-index-cli, llama-index-agent-openai, llama-index-program-openai, llama-index-question-gen-openai, llama_index\n",
      "Successfully installed aiohttp-3.9.5 aiosignal-1.3.1 attrs-23.2.0 beautifulsoup4-4.12.3 dataclasses-json-0.6.6 deprecated-1.2.14 dirtyjson-1.0.8 frozenlist-1.4.1 greenlet-3.0.3 llama-index-agent-openai-0.2.5 llama-index-cli-0.1.12 llama-index-core-0.10.39.post1 llama-index-embeddings-openai-0.1.10 llama-index-indices-managed-llama-cloud-0.1.6 llama-index-legacy-0.9.48 llama-index-llms-openai-0.1.21 llama-index-multi-modal-llms-openai-0.1.6 llama-index-program-openai-0.1.6 llama-index-question-gen-openai-0.1.3 llama-index-readers-file-0.1.23 llama-index-readers-llama-parse-0.1.4 llama-parse-0.4.3 llama_index-0.10.39 llamaindex-py-client-0.1.19 marshmallow-3.21.2 multidict-6.0.5 mypy-extensions-1.0.0 nltk-3.8.1 pypdf-4.2.0 soupsieve-2.5 striprtf-0.0.26 tenacity-8.3.0 typing-inspect-0.9.0 yarl-1.9.4\n",
      "Note: you may need to restart the kernel to use updated packages.\n"
     ]
    }
   ],
   "source": [
    "pip install llama_index"
   ]
  },
  {
   "cell_type": "code",
   "execution_count": 8,
   "metadata": {},
   "outputs": [],
   "source": [
    "from typing import Dict"
   ]
  },
  {
   "cell_type": "code",
   "execution_count": 4,
   "metadata": {},
   "outputs": [],
   "source": [
    "EVALUATION_MODEL = \"\"\"\n",
    "You are an expert evaluation system for a question answering chatbot.\n",
    "\n",
    "You are given the following information:\n",
    "- a user query, \n",
    "- a reference answer, and\n",
    "- a generated answer.\n",
    "\n",
    "Your job is to judge the relevance and correctness of the generated answer.\n",
    "Output a single score that represents a holistic evaluation.\n",
    "You must return your response in a line with only the score.\n",
    "Do not return answers in any other format.\n",
    "On a separate line provide your reasoning for the score as well.\n",
    "\n",
    "Follow these guidelines for scoring:\n",
    "- Your score has to be between 1 and 5, where 1 is the worst and 5 is the best.\n",
    "- If the generated answer is not relevant to the user query, \n",
    "you should give a score of 1.\n",
    "- If the generated answer is relevant but contains mistakes, \n",
    "you should give a score between 2 and 3.\n",
    "- If the generated answer is relevant and fully correct, \n",
    "you should give a score between 4 and 5.\n",
    "\"\"\"\n",
    "\n",
    "EVALUATION_USER = \"\"\"\n",
    "## User Query\n",
    "{query}\n",
    "\n",
    "## Reference Answer\n",
    "{reference_answer}\n",
    "\n",
    "## Generated Answer\n",
    "{generated_answer}\n",
    "\"\"\""
   ]
  },
  {
   "cell_type": "code",
   "execution_count": 1,
   "metadata": {},
   "outputs": [],
   "source": [
    "# Example: reuse your existing OpenAI setup\n",
    "from openai import OpenAI\n",
    "\n",
    "# Point to the local server\n",
    "llm = OpenAI(base_url=\"http://localhost:1234/v1\", api_key=\"lm-studio\")"
   ]
  },
  {
   "cell_type": "code",
   "execution_count": 2,
   "metadata": {},
   "outputs": [],
   "source": [
    "# query_str = \"What is the range of parameters for the large language models (LLMs) developed in this work?\"\n",
    "# reference_answer = \"The range of parameters for the large language models (LLMs) developed in this work is from 7 billion to 70 billion.\"\n",
    "\n",
    "query_str = (\"que cuota anual tiene una tarjeta de debito\")\n",
    "\n",
    "reference_answer = (\n",
    "    \"Se cierra la contratación de VISA DÉBITO para clientes entre 30 y 60 años. La operativa recomendará la contratación de VISA Express con límite recomendado : clientes con límite preconcedido, análisis de riesgo o suficiente límite de crédito. Express con 200 € de límite de crédito : clientes sin suficiente límite disponible para tarjeta de crédito, con probabilidad de mora inferior a 10 y sin impagados en UOCBank ni externos. Express con 500 € (sin necesidad de elevar al CARP): clientes sin impagados en UOCBank. Express con un límite de crédito acorde al perfil : clientes que deseen una de tarjeta de débito. Clientes entre 12 y 30 años Clientes mayores de 30 años Clientes mayores de 60 años Se ofrecerá Visa débito joven Tarjeta de débito Oro, sólo cuando el cliente no pueda disponer de riesgo Visa débito senior Los 40 Débito Visa débito UOCBank Visa débito Oro, sólo cuando el cliente no pueda disponer de riesgo Carnets Jóvenes Cuota anual Las tarjetas son gratuitas hasta los 26 años. A partir de los 26 años se realizarán acciones centralizadas para sustituir la tarjeta por una tarjeta de crédito o una Express Visa débito Oro: 50€ La tarjeta es gratuita el primer año. Para los siguientes años será gratuita, si el cliente domicilia la pensión y realiza compras por más de 300 € por tarjeta Se bonificará a colectivos de alto valor y clientes de Banca Asociada (funcionarios, empleados de grandes empresas, etc.).\"\n",
    ")\n",
    "generated_answer = \"<b>Cuota anual</b> de una tarjeta de débito es gratuita hasta los 26 años. A partir de los 26 años se realizarán acciones centralizadas para sustituir la tarjeta por una tarjeta de crédito o una Express Visa débito Oro: <b>50€</b>. La tarjeta es gratuita el primer año. Para los siguientes años será gratuita, si el cliente domicilia la pensión y realiza compras por más de 300 € por tarjeta.\""
   ]
  },
  {
   "cell_type": "code",
   "execution_count": 5,
   "metadata": {},
   "outputs": [],
   "source": [
    "content_user = EVALUATION_USER.replace(\"{query}\", query_str)\n",
    "content_user = content_user.replace(\"{reference_answer}\", reference_answer)\n",
    "content_user = content_user.replace(\"{generated_answer}\", generated_answer)\n"
   ]
  },
  {
   "cell_type": "code",
   "execution_count": 6,
   "metadata": {},
   "outputs": [],
   "source": [
    "\n",
    "messages = [{ \"role\": \"system\", \"content\": EVALUATION_MODEL },{ \"role\": \"user\", \"content\": content_user } ]"
   ]
  },
  {
   "cell_type": "code",
   "execution_count": 9,
   "metadata": {},
   "outputs": [],
   "source": [
    "model3=\"lmstudio-community/Meta-Llama-3-8B-Instruct-GGUF/Meta-Llama-3-8B-Instruct-Q4_K_M.gguf\" #json ok frase ok (11seg)\n",
    "def run_correctness_eval(\n",
    "    threshold: float = 4.0,\n",
    ") -> Dict:\n",
    "    \"\"\"Run correctness eval.\"\"\"\n",
    "    \n",
    "    \n",
    "    chat_response = llm.chat.completions.create(\n",
    "        model=model3,\n",
    "        messages = messages,\n",
    "        temperature=0.0,\n",
    "        #max_tokens=100,\n",
    "        #stream=True,\n",
    "    )\n",
    "    print(chat_response)\n",
    "    if(chat_response == None):\n",
    "        return {\"passing\": False, \"score\": 0, \"reason\": \"Error in response\"}\n",
    "    raw_output = chat_response.choices[0].message.content\n",
    "\n",
    "    # Extract from response\n",
    "    score_str, reasoning_str = raw_output.split(\"\\n\", 1)\n",
    "    score = float(score_str)\n",
    "    reasoning = reasoning_str.lstrip(\"\\n\")\n",
    "\n",
    "    return {\"passing\": score >= threshold, \"score\": score, \"reason\": reasoning}"
   ]
  },
  {
   "cell_type": "code",
   "execution_count": 10,
   "metadata": {},
   "outputs": [
    {
     "name": "stdout",
     "output_type": "stream",
     "text": [
      "ChatCompletion(id='chatcmpl-ummpoxng2e983p2y3pt3xl', choices=[Choice(finish_reason='stop', index=0, logprobs=None, message=ChatCompletionMessage(content='4\\n\\nThe generated answer is highly relevant to the user query, as it directly addresses the question of the annual fee for a debit card. The answer is also mostly correct, providing accurate information about the free period and the subsequent fee structure. The only minor mistake is the use of \"Cuota anual\" instead of \"Tarjeta de débito\", but this does not affect the overall understanding of the answer. Overall, I would give a score of 4 for this generated answer.', role='assistant', function_call=None, tool_calls=None))], created=1716907555, model='lmstudio-community/Meta-Llama-3-8B-Instruct-GGUF/Meta-Llama-3-8B-Instruct-Q4_K_M.gguf', object='chat.completion', system_fingerprint=None, usage=CompletionUsage(completion_tokens=99, prompt_tokens=100, total_tokens=199))\n"
     ]
    },
    {
     "data": {
      "text/plain": [
       "{'passing': True,\n",
       " 'score': 4.0,\n",
       " 'reason': 'The generated answer is highly relevant to the user query, as it directly addresses the question of the annual fee for a debit card. The answer is also mostly correct, providing accurate information about the free period and the subsequent fee structure. The only minor mistake is the use of \"Cuota anual\" instead of \"Tarjeta de débito\", but this does not affect the overall understanding of the answer. Overall, I would give a score of 4 for this generated answer.'}"
      ]
     },
     "metadata": {},
     "output_type": "display_data"
    }
   ],
   "source": [
    "eval_results = run_correctness_eval(\n",
    "    threshold=4.0\n",
    ")\n",
    "display(eval_results)"
   ]
  },
  {
   "cell_type": "code",
   "execution_count": 70,
   "metadata": {},
   "outputs": [
    {
     "ename": "SyntaxError",
     "evalue": "invalid syntax (954816536.py, line 1)",
     "output_type": "error",
     "traceback": [
      "\u001b[0;36m  Cell \u001b[0;32mIn[70], line 1\u001b[0;36m\u001b[0m\n\u001b[0;31m    pip install azureml-metrics\u001b[0m\n\u001b[0m        ^\u001b[0m\n\u001b[0;31mSyntaxError\u001b[0m\u001b[0;31m:\u001b[0m invalid syntax\n"
     ]
    }
   ],
   "source": [
    "pip install azureml-metrics"
   ]
  },
  {
   "cell_type": "code",
   "execution_count": 75,
   "metadata": {},
   "outputs": [
    {
     "name": "stdout",
     "output_type": "stream",
     "text": [
      "Requirement already satisfied: azureml-metrics in /Library/Frameworks/Python.framework/Versions/3.12/lib/python3.12/site-packages (0.0.57)\n",
      "Requirement already satisfied: psutil<6.0.0,>=5.2.2 in /Users/laurahervas/Library/Python/3.12/lib/python/site-packages (from azureml-metrics) (5.9.8)\n",
      "Requirement already satisfied: tqdm<5.0.0,>=4.62.3 in /Library/Frameworks/Python.framework/Versions/3.12/lib/python3.12/site-packages (from azureml-metrics) (4.66.2)\n",
      "Requirement already satisfied: azureml-telemetry in /Library/Frameworks/Python.framework/Versions/3.12/lib/python3.12/site-packages (from azureml-metrics) (1.56.0)\n",
      "Requirement already satisfied: azureml-core in /Library/Frameworks/Python.framework/Versions/3.12/lib/python3.12/site-packages (from azureml-metrics) (1.56.0)\n",
      "Requirement already satisfied: pandas<3.0.0,>=2.0.2 in /Library/Frameworks/Python.framework/Versions/3.12/lib/python3.12/site-packages (from azureml-metrics) (2.2.1)\n",
      "Requirement already satisfied: setuptools>=69.1.0 in /Library/Frameworks/Python.framework/Versions/3.12/lib/python3.12/site-packages (from azureml-metrics) (69.2.0)\n",
      "Requirement already satisfied: numpy<2.0.0,>=1.22.0 in /Library/Frameworks/Python.framework/Versions/3.12/lib/python3.12/site-packages (from azureml-metrics) (1.26.4)\n",
      "Requirement already satisfied: python-dateutil>=2.8.2 in /Users/laurahervas/Library/Python/3.12/lib/python/site-packages (from pandas<3.0.0,>=2.0.2->azureml-metrics) (2.9.0.post0)\n",
      "Requirement already satisfied: pytz>=2020.1 in /Library/Frameworks/Python.framework/Versions/3.12/lib/python3.12/site-packages (from pandas<3.0.0,>=2.0.2->azureml-metrics) (2024.1)\n",
      "Requirement already satisfied: tzdata>=2022.7 in /Library/Frameworks/Python.framework/Versions/3.12/lib/python3.12/site-packages (from pandas<3.0.0,>=2.0.2->azureml-metrics) (2024.1)\n",
      "Requirement already satisfied: backports.tempfile in /Library/Frameworks/Python.framework/Versions/3.12/lib/python3.12/site-packages (from azureml-core->azureml-metrics) (1.0)\n",
      "Requirement already satisfied: pathspec<1.0.0 in /Library/Frameworks/Python.framework/Versions/3.12/lib/python3.12/site-packages (from azureml-core->azureml-metrics) (0.12.1)\n",
      "Requirement already satisfied: requests<3.0.0,>=2.19.1 in /Library/Frameworks/Python.framework/Versions/3.12/lib/python3.12/site-packages (from requests[socks]<3.0.0,>=2.19.1->azureml-core->azureml-metrics) (2.31.0)\n",
      "Requirement already satisfied: msal<2.0.0,>=1.15.0 in /Library/Frameworks/Python.framework/Versions/3.12/lib/python3.12/site-packages (from azureml-core->azureml-metrics) (1.28.0)\n",
      "Requirement already satisfied: msal-extensions<=2.0.0,>=0.3.0 in /Library/Frameworks/Python.framework/Versions/3.12/lib/python3.12/site-packages (from azureml-core->azureml-metrics) (1.1.0)\n",
      "Requirement already satisfied: knack<0.12.0 in /Library/Frameworks/Python.framework/Versions/3.12/lib/python3.12/site-packages (from azureml-core->azureml-metrics) (0.11.0)\n",
      "Requirement already satisfied: azure-core<2.0.0 in /Library/Frameworks/Python.framework/Versions/3.12/lib/python3.12/site-packages (from azureml-core->azureml-metrics) (1.30.1)\n",
      "Requirement already satisfied: pkginfo in /Library/Frameworks/Python.framework/Versions/3.12/lib/python3.12/site-packages (from azureml-core->azureml-metrics) (1.10.0)\n",
      "Requirement already satisfied: argcomplete<4 in /Library/Frameworks/Python.framework/Versions/3.12/lib/python3.12/site-packages (from azureml-core->azureml-metrics) (3.3.0)\n",
      "Requirement already satisfied: humanfriendly<11.0,>=4.7 in /Library/Frameworks/Python.framework/Versions/3.12/lib/python3.12/site-packages (from azureml-core->azureml-metrics) (10.0)\n",
      "Requirement already satisfied: paramiko<4.0.0,>=2.0.8 in /Library/Frameworks/Python.framework/Versions/3.12/lib/python3.12/site-packages (from azureml-core->azureml-metrics) (3.4.0)\n",
      "Requirement already satisfied: azure-mgmt-resource<=24.0.0,>=15.0.0 in /Library/Frameworks/Python.framework/Versions/3.12/lib/python3.12/site-packages (from azureml-core->azureml-metrics) (23.1.1)\n",
      "Requirement already satisfied: azure-mgmt-containerregistry<11,>=8.2.0 in /Library/Frameworks/Python.framework/Versions/3.12/lib/python3.12/site-packages (from azureml-core->azureml-metrics) (10.3.0)\n",
      "Requirement already satisfied: azure-mgmt-storage<=22.0.0,>=16.0.0 in /Library/Frameworks/Python.framework/Versions/3.12/lib/python3.12/site-packages (from azureml-core->azureml-metrics) (21.1.0)\n",
      "Requirement already satisfied: azure-mgmt-keyvault<11.0.0,>=0.40.0 in /Library/Frameworks/Python.framework/Versions/3.12/lib/python3.12/site-packages (from azureml-core->azureml-metrics) (10.3.0)\n",
      "Requirement already satisfied: azure-mgmt-authorization<5,>=0.40.0 in /Library/Frameworks/Python.framework/Versions/3.12/lib/python3.12/site-packages (from azureml-core->azureml-metrics) (4.0.0)\n",
      "Requirement already satisfied: azure-mgmt-network<=26.0.0 in /Library/Frameworks/Python.framework/Versions/3.12/lib/python3.12/site-packages (from azureml-core->azureml-metrics) (25.3.0)\n",
      "Requirement already satisfied: azure-graphrbac<1.0.0,>=0.40.0 in /Library/Frameworks/Python.framework/Versions/3.12/lib/python3.12/site-packages (from azureml-core->azureml-metrics) (0.61.1)\n",
      "Requirement already satisfied: azure-common<2.0.0,>=1.1.12 in /Library/Frameworks/Python.framework/Versions/3.12/lib/python3.12/site-packages (from azureml-core->azureml-metrics) (1.1.28)\n",
      "Requirement already satisfied: msrest<=0.7.1,>=0.5.1 in /Library/Frameworks/Python.framework/Versions/3.12/lib/python3.12/site-packages (from azureml-core->azureml-metrics) (0.7.1)\n",
      "Requirement already satisfied: msrestazure<=0.6.4,>=0.4.33 in /Library/Frameworks/Python.framework/Versions/3.12/lib/python3.12/site-packages (from azureml-core->azureml-metrics) (0.6.4)\n",
      "Requirement already satisfied: urllib3<3.0.0,>1.26.17 in /Library/Frameworks/Python.framework/Versions/3.12/lib/python3.12/site-packages (from azureml-core->azureml-metrics) (2.2.1)\n",
      "Requirement already satisfied: packaging<=25.0,>=20.0 in /Library/Frameworks/Python.framework/Versions/3.12/lib/python3.12/site-packages (from azureml-core->azureml-metrics) (23.2)\n",
      "Requirement already satisfied: ndg-httpsclient<=0.5.1 in /Library/Frameworks/Python.framework/Versions/3.12/lib/python3.12/site-packages (from azureml-core->azureml-metrics) (0.5.1)\n",
      "Requirement already satisfied: SecretStorage<4.0.0 in /Library/Frameworks/Python.framework/Versions/3.12/lib/python3.12/site-packages (from azureml-core->azureml-metrics) (3.3.3)\n",
      "Requirement already satisfied: jsonpickle<4.0.0 in /Library/Frameworks/Python.framework/Versions/3.12/lib/python3.12/site-packages (from azureml-core->azureml-metrics) (3.0.4)\n",
      "Requirement already satisfied: contextlib2<22.0.0 in /Library/Frameworks/Python.framework/Versions/3.12/lib/python3.12/site-packages (from azureml-core->azureml-metrics) (21.6.0)\n",
      "Requirement already satisfied: docker<8.0.0 in /Library/Frameworks/Python.framework/Versions/3.12/lib/python3.12/site-packages (from azureml-core->azureml-metrics) (7.1.0)\n",
      "Requirement already satisfied: PyJWT<3.0.0 in /Library/Frameworks/Python.framework/Versions/3.12/lib/python3.12/site-packages (from azureml-core->azureml-metrics) (2.8.0)\n",
      "Requirement already satisfied: adal<=1.2.7,>=1.2.0 in /Library/Frameworks/Python.framework/Versions/3.12/lib/python3.12/site-packages (from azureml-core->azureml-metrics) (1.2.7)\n",
      "Requirement already satisfied: pyopenssl<25.0.0 in /Library/Frameworks/Python.framework/Versions/3.12/lib/python3.12/site-packages (from azureml-core->azureml-metrics) (24.1.0)\n",
      "Requirement already satisfied: jmespath<2.0.0 in /Library/Frameworks/Python.framework/Versions/3.12/lib/python3.12/site-packages (from azureml-core->azureml-metrics) (1.0.1)\n",
      "Requirement already satisfied: applicationinsights in /Library/Frameworks/Python.framework/Versions/3.12/lib/python3.12/site-packages (from azureml-telemetry->azureml-metrics) (0.11.10)\n",
      "Requirement already satisfied: cryptography>=1.1.0 in /Library/Frameworks/Python.framework/Versions/3.12/lib/python3.12/site-packages (from adal<=1.2.7,>=1.2.0->azureml-core->azureml-metrics) (42.0.5)\n",
      "Requirement already satisfied: six>=1.11.0 in /Library/Frameworks/Python.framework/Versions/3.12/lib/python3.12/site-packages (from azure-core<2.0.0->azureml-core->azureml-metrics) (1.16.0)\n",
      "Requirement already satisfied: typing-extensions>=4.6.0 in /Library/Frameworks/Python.framework/Versions/3.12/lib/python3.12/site-packages (from azure-core<2.0.0->azureml-core->azureml-metrics) (4.11.0)\n",
      "Requirement already satisfied: isodate<1.0.0,>=0.6.1 in /Library/Frameworks/Python.framework/Versions/3.12/lib/python3.12/site-packages (from azure-mgmt-authorization<5,>=0.40.0->azureml-core->azureml-metrics) (0.6.1)\n",
      "Requirement already satisfied: azure-mgmt-core<2.0.0,>=1.3.2 in /Library/Frameworks/Python.framework/Versions/3.12/lib/python3.12/site-packages (from azure-mgmt-authorization<5,>=0.40.0->azureml-core->azureml-metrics) (1.4.0)\n",
      "Requirement already satisfied: pygments in /Users/laurahervas/Library/Python/3.12/lib/python/site-packages (from knack<0.12.0->azureml-core->azureml-metrics) (2.17.2)\n",
      "Requirement already satisfied: pyyaml in /Library/Frameworks/Python.framework/Versions/3.12/lib/python3.12/site-packages (from knack<0.12.0->azureml-core->azureml-metrics) (6.0.1)\n",
      "Requirement already satisfied: tabulate in /Library/Frameworks/Python.framework/Versions/3.12/lib/python3.12/site-packages (from knack<0.12.0->azureml-core->azureml-metrics) (0.9.0)\n",
      "Requirement already satisfied: portalocker<3,>=1.0 in /Library/Frameworks/Python.framework/Versions/3.12/lib/python3.12/site-packages (from msal-extensions<=2.0.0,>=0.3.0->azureml-core->azureml-metrics) (2.8.2)\n",
      "Requirement already satisfied: certifi>=2017.4.17 in /Library/Frameworks/Python.framework/Versions/3.12/lib/python3.12/site-packages (from msrest<=0.7.1,>=0.5.1->azureml-core->azureml-metrics) (2024.2.2)\n",
      "Requirement already satisfied: requests-oauthlib>=0.5.0 in /Library/Frameworks/Python.framework/Versions/3.12/lib/python3.12/site-packages (from msrest<=0.7.1,>=0.5.1->azureml-core->azureml-metrics) (2.0.0)\n",
      "Requirement already satisfied: pyasn1>=0.1.1 in /Library/Frameworks/Python.framework/Versions/3.12/lib/python3.12/site-packages (from ndg-httpsclient<=0.5.1->azureml-core->azureml-metrics) (0.6.0)\n",
      "Requirement already satisfied: bcrypt>=3.2 in /Library/Frameworks/Python.framework/Versions/3.12/lib/python3.12/site-packages (from paramiko<4.0.0,>=2.0.8->azureml-core->azureml-metrics) (4.1.2)\n",
      "Requirement already satisfied: pynacl>=1.5 in /Library/Frameworks/Python.framework/Versions/3.12/lib/python3.12/site-packages (from paramiko<4.0.0,>=2.0.8->azureml-core->azureml-metrics) (1.5.0)\n",
      "Requirement already satisfied: charset-normalizer<4,>=2 in /Library/Frameworks/Python.framework/Versions/3.12/lib/python3.12/site-packages (from requests<3.0.0,>=2.19.1->requests[socks]<3.0.0,>=2.19.1->azureml-core->azureml-metrics) (3.3.2)\n",
      "Requirement already satisfied: idna<4,>=2.5 in /Library/Frameworks/Python.framework/Versions/3.12/lib/python3.12/site-packages (from requests<3.0.0,>=2.19.1->requests[socks]<3.0.0,>=2.19.1->azureml-core->azureml-metrics) (3.6)\n",
      "Requirement already satisfied: PySocks!=1.5.7,>=1.5.6 in /Library/Frameworks/Python.framework/Versions/3.12/lib/python3.12/site-packages (from requests[socks]<3.0.0,>=2.19.1->azureml-core->azureml-metrics) (1.7.1)\n",
      "Requirement already satisfied: jeepney>=0.6 in /Library/Frameworks/Python.framework/Versions/3.12/lib/python3.12/site-packages (from SecretStorage<4.0.0->azureml-core->azureml-metrics) (0.8.0)\n",
      "Requirement already satisfied: backports.weakref in /Library/Frameworks/Python.framework/Versions/3.12/lib/python3.12/site-packages (from backports.tempfile->azureml-core->azureml-metrics) (1.0.post1)\n",
      "Requirement already satisfied: cffi>=1.12 in /Library/Frameworks/Python.framework/Versions/3.12/lib/python3.12/site-packages (from cryptography>=1.1.0->adal<=1.2.7,>=1.2.0->azureml-core->azureml-metrics) (1.16.0)\n",
      "Requirement already satisfied: oauthlib>=3.0.0 in /Library/Frameworks/Python.framework/Versions/3.12/lib/python3.12/site-packages (from requests-oauthlib>=0.5.0->msrest<=0.7.1,>=0.5.1->azureml-core->azureml-metrics) (3.2.2)\n",
      "Requirement already satisfied: pycparser in /Library/Frameworks/Python.framework/Versions/3.12/lib/python3.12/site-packages (from cffi>=1.12->cryptography>=1.1.0->adal<=1.2.7,>=1.2.0->azureml-core->azureml-metrics) (2.21)\n",
      "Note: you may need to restart the kernel to use updated packages.\n"
     ]
    }
   ],
   "source": [
    "%pip install azureml-metrics"
   ]
  },
  {
   "cell_type": "code",
   "execution_count": 76,
   "metadata": {},
   "outputs": [
    {
     "name": "stderr",
     "output_type": "stream",
     "text": [
      "Skipping the computation of GPT related metrics as openai_params are not provided.Computing metrics for ['exact_match', 'llm_relevance', 'llm_coherence', 'bertscore', 'f1_score', 'llm_groundedness', 'llm_fluency', 'llm_similarity']\n",
      "Skipping the computation of LLM related metrics as llm_params are not provided. Computing metrics for ['exact_match', 'f1_score', 'bertscore']\n",
      "Computing metrics:   0%|          | 0/3 [00:00<?, ?it/s]Scoring failed for metrics bertscore\n",
      "Class: MissingDependencies\n",
      "Message: bert-score packages are not available. Please run pip install azureml-metrics[bert-score]\n",
      "Computing metrics: 100%|██████████| 3/3 [00:00<00:00, 623.16it/s]\n"
     ]
    },
    {
     "name": "stdout",
     "output_type": "stream",
     "text": [
      "{'mean_exact_match': 0.0, 'median_exact_match': 0.0, 'mean_f1_score': 0.4078947368421053, 'median_f1_score': 0.4078947368421053, 'bertscore': nan}\n"
     ]
    }
   ],
   "source": [
    "from azureml.metrics import compute_metrics, constants\n",
    "\n",
    "query_str = (\"que cuota anual tiene una tarjeta de debito\")\n",
    "reference_answer = (\n",
    "    \"Se cierra la contratación de VISA DÉBITO para clientes entre 30 y 60 años. La operativa recomendará la contratación de VISA Express con límite recomendado : clientes con límite preconcedido, análisis de riesgo o suficiente límite de crédito. Express con 200 € de límite de crédito : clientes sin suficiente límite disponible para tarjeta de crédito, con probabilidad de mora inferior a 10 y sin impagados en UOCBank ni externos. Express con 500 € (sin necesidad de elevar al CARP): clientes sin impagados en UOCBank. Express con un límite de crédito acorde al perfil : clientes que deseen una de tarjeta de débito. Clientes entre 12 y 30 años Clientes mayores de 30 años Clientes mayores de 60 años Se ofrecerá Visa débito joven Tarjeta de débito Oro, sólo cuando el cliente no pueda disponer de riesgo Visa débito senior Los 40 Débito Visa débito UOCBank Visa débito Oro, sólo cuando el cliente no pueda disponer de riesgo Carnets Jóvenes Cuota anual Las tarjetas son gratuitas hasta los 26 años. A partir de los 26 años se realizarán acciones centralizadas para sustituir la tarjeta por una tarjeta de crédito o una Express Visa débito Oro: 50€ La tarjeta es gratuita el primer año. Para los siguientes años será gratuita, si el cliente domicilia la pensión y realiza compras por más de 300 € por tarjeta Se bonificará a colectivos de alto valor y clientes de Banca Asociada (funcionarios, empleados de grandes empresas, etc.).\"\n",
    ")\n",
    "generated_answer = \"<b>Cuota anual</b> de una tarjeta de débito es gratuita hasta los 26 años. A partir de los 26 años se realizarán acciones centralizadas para sustituir la tarjeta por una tarjeta de crédito o una Express Visa débito Oro: <b>50€</b>. La tarjeta es gratuita el primer año. Para los siguientes años será gratuita, si el cliente domicilia la pensión y realiza compras por más de 300 € por tarjeta.\"\n",
    "metrics_config = {\n",
    "    \"questions\": [query_str],\n",
    "    \"metrics\":[\"gpt_coherence\",\"gpt_fluency\",\"gpt_relevance\",\"gpt_groundedness\",\"gpt_similarity\"],\n",
    "}\n",
    "metrics = compute_metrics(\n",
    "    task_type=constants.Tasks.QUESTION_ANSWERING,\n",
    "    y_test=[reference_answer],\n",
    "    y_pred=[generated_answer],\n",
    "    ) [\"metrics\"]\n",
    "print(metrics)"
   ]
  },
  {
   "cell_type": "code",
   "execution_count": 11,
   "metadata": {},
   "outputs": [
    {
     "name": "stdout",
     "output_type": "stream",
     "text": [
      "Collecting rouge-score\n",
      "  Downloading rouge_score-0.1.2.tar.gz (17 kB)\n",
      "  Preparing metadata (setup.py) ... \u001b[?25ldone\n",
      "\u001b[?25hCollecting absl-py (from rouge-score)\n",
      "  Downloading absl_py-2.1.0-py3-none-any.whl.metadata (2.3 kB)\n",
      "Requirement already satisfied: nltk in /Library/Frameworks/Python.framework/Versions/3.12/lib/python3.12/site-packages (from rouge-score) (3.8.1)\n",
      "Requirement already satisfied: numpy in /Library/Frameworks/Python.framework/Versions/3.12/lib/python3.12/site-packages (from rouge-score) (1.26.4)\n",
      "Requirement already satisfied: six>=1.14.0 in /Library/Frameworks/Python.framework/Versions/3.12/lib/python3.12/site-packages (from rouge-score) (1.16.0)\n",
      "Requirement already satisfied: click in /Library/Frameworks/Python.framework/Versions/3.12/lib/python3.12/site-packages (from nltk->rouge-score) (8.1.7)\n",
      "Requirement already satisfied: joblib in /Library/Frameworks/Python.framework/Versions/3.12/lib/python3.12/site-packages (from nltk->rouge-score) (1.3.2)\n",
      "Requirement already satisfied: regex>=2021.8.3 in /Library/Frameworks/Python.framework/Versions/3.12/lib/python3.12/site-packages (from nltk->rouge-score) (2023.12.25)\n",
      "Requirement already satisfied: tqdm in /Library/Frameworks/Python.framework/Versions/3.12/lib/python3.12/site-packages (from nltk->rouge-score) (4.66.2)\n",
      "Downloading absl_py-2.1.0-py3-none-any.whl (133 kB)\n",
      "\u001b[2K   \u001b[90m━━━━━━━━━━━━━━━━━━━━━━━━━━━━━━━━━━━━━━━━\u001b[0m \u001b[32m133.7/133.7 kB\u001b[0m \u001b[31m3.5 MB/s\u001b[0m eta \u001b[36m0:00:00\u001b[0m00:01\u001b[0m\n",
      "\u001b[?25hBuilding wheels for collected packages: rouge-score\n",
      "  Building wheel for rouge-score (setup.py) ... \u001b[?25ldone\n",
      "\u001b[?25h  Created wheel for rouge-score: filename=rouge_score-0.1.2-py3-none-any.whl size=24934 sha256=3f1fff736f9e706768cf77fc21e4d5fd6f27c2712b0f476eba8cc917c3dffbf2\n",
      "  Stored in directory: /Users/laurahervas/Library/Caches/pip/wheels/85/9d/af/01feefbe7d55ef5468796f0c68225b6788e85d9d0a281e7a70\n",
      "Successfully built rouge-score\n",
      "Installing collected packages: absl-py, rouge-score\n",
      "Successfully installed absl-py-2.1.0 rouge-score-0.1.2\n",
      "Note: you may need to restart the kernel to use updated packages.\n"
     ]
    }
   ],
   "source": [
    "pip install rouge-score"
   ]
  },
  {
   "cell_type": "code",
   "execution_count": 22,
   "metadata": {},
   "outputs": [],
   "source": [
    "reference_answer = (\n",
    "    \"Se cierra la contratación de VISA DÉBITO para clientes entre 30 y 60 años. La operativa recomendará la contratación de VISA Express con límite recomendado : clientes con límite preconcedido, análisis de riesgo o suficiente límite de crédito. Express con 200 € de límite de crédito : clientes sin suficiente límite disponible para tarjeta de crédito, con probabilidad de mora inferior a 10 y sin impagados en UOCBank ni externos. Express con 500 € (sin necesidad de elevar al CARP): clientes sin impagados en UOCBank. Express con un límite de crédito acorde al perfil : clientes que deseen una de tarjeta de débito. Clientes entre 12 y 30 años Clientes mayores de 30 años Clientes mayores de 60 años Se ofrecerá Visa débito joven Tarjeta de débito Oro, sólo cuando el cliente no pueda disponer de riesgo Visa débito senior Los 40 Débito Visa débito UOCBank Visa débito Oro, sólo cuando el cliente no pueda disponer de riesgo Carnets Jóvenes Cuota anual Las tarjetas son gratuitas hasta los 26 años. A partir de los 26 años se realizarán acciones centralizadas para sustituir la tarjeta por una tarjeta de crédito o una Express Visa débito Oro: 50€ La tarjeta es gratuita el primer año. Para los siguientes años será gratuita, si el cliente domicilia la pensión y realiza compras por más de 300 € por tarjeta Se bonificará a colectivos de alto valor y clientes de Banca Asociada (funcionarios, empleados de grandes empresas, etc.).\"\n",
    ")\n",
    "generated_answer = \"<b>Cuota anual</b> de una tarjeta de débito es gratuita hasta los 26 años. A partir de los 26 años se realizarán acciones centralizadas para sustituir la tarjeta por una tarjeta de crédito o una Express Visa débito Oro: <b>50€</b>. La tarjeta es gratuita el primer año. Para los siguientes años será gratuita, si el cliente domicilia la pensión y realiza compras por más de 300 € por tarjeta.\"\n"
   ]
  },
  {
   "cell_type": "code",
   "execution_count": 13,
   "metadata": {},
   "outputs": [
    {
     "name": "stdout",
     "output_type": "stream",
     "text": [
      "{'rouge1': Score(precision=0.9382716049382716, recall=0.2773722627737226, fmeasure=0.42816901408450697), 'rougeL': Score(precision=0.9135802469135802, recall=0.27007299270072993, fmeasure=0.4169014084507042)}\n"
     ]
    }
   ],
   "source": [
    "from rouge_score import rouge_scorer\n",
    "\n",
    "scorer = rouge_scorer.RougeScorer([\"rouge1\", \"rougeL\"], use_stemmer=True)\n",
    "scores = scorer.score(reference_answer,\n",
    "                      generated_answer)\n",
    "print(scores)"
   ]
  },
  {
   "cell_type": "code",
   "execution_count": 1,
   "metadata": {},
   "outputs": [
    {
     "name": "stdout",
     "output_type": "stream",
     "text": [
      "Requirement already satisfied: nltk in /Library/Frameworks/Python.framework/Versions/3.12/lib/python3.12/site-packages (3.8.1)\n",
      "Requirement already satisfied: click in /Library/Frameworks/Python.framework/Versions/3.12/lib/python3.12/site-packages (from nltk) (8.1.7)\n",
      "Requirement already satisfied: joblib in /Library/Frameworks/Python.framework/Versions/3.12/lib/python3.12/site-packages (from nltk) (1.3.2)\n",
      "Requirement already satisfied: regex>=2021.8.3 in /Library/Frameworks/Python.framework/Versions/3.12/lib/python3.12/site-packages (from nltk) (2023.12.25)\n",
      "Requirement already satisfied: tqdm in /Library/Frameworks/Python.framework/Versions/3.12/lib/python3.12/site-packages (from nltk) (4.66.2)\n",
      "Note: you may need to restart the kernel to use updated packages.\n"
     ]
    }
   ],
   "source": [
    "pip install nltk"
   ]
  },
  {
   "cell_type": "code",
   "execution_count": 9,
   "metadata": {},
   "outputs": [
    {
     "name": "stdout",
     "output_type": "stream",
     "text": [
      "[['Se', 'cierra', 'la', 'contratación', 'de', 'VISA', 'DÉBITO', 'para', 'clientes', 'entre', '30', 'y', '60', 'años.', 'La', 'operativa', 'recomendará', 'la', 'contratación', 'de', 'VISA', 'Express', 'con', 'límite', 'recomendado', ':', 'clientes', 'con', 'límite', 'preconcedido,', 'análisis', 'de', 'riesgo', 'o', 'suficiente', 'límite', 'de', 'crédito.', 'Express', 'con', '200', '€', 'de', 'límite', 'de', 'crédito', ':', 'clientes', 'sin', 'suficiente', 'límite', 'disponible', 'para', 'tarjeta', 'de', 'crédito,', 'con', 'probabilidad', 'de', 'mora', 'inferior', 'a', '10', 'y', 'sin', 'impagados', 'en', 'UOCBank', 'ni', 'externos.', 'Express', 'con', '500', '€', '(sin', 'necesidad', 'de', 'elevar', 'al', 'CARP):', 'clientes', 'sin', 'impagados', 'en', 'UOCBank.', 'Express', 'con', 'un', 'límite', 'de', 'crédito', 'acorde', 'al', 'perfil', ':', 'clientes', 'que', 'deseen', 'una', 'de', 'tarjeta', 'de', 'débito.', 'Clientes', 'entre', '12', 'y', '30', 'años', 'Clientes', 'mayores', 'de', '30', 'años', 'Clientes', 'mayores', 'de', '60', 'años', 'Se', 'ofrecerá', 'Visa', 'débito', 'joven', 'Tarjeta', 'de', 'débito', 'Oro,', 'sólo', 'cuando', 'el', 'cliente', 'no', 'pueda', 'disponer', 'de', 'riesgo', 'Visa', 'débito', 'senior', 'Los', '40', 'Débito', 'Visa', 'débito', 'UOCBank', 'Visa', 'débito', 'Oro,', 'sólo', 'cuando', 'el', 'cliente', 'no', 'pueda', 'disponer', 'de', 'riesgo', 'Carnets', 'Jóvenes', 'Cuota', 'anual', 'Las', 'tarjetas', 'son', 'gratuitas', 'hasta', 'los', '26', 'años.', 'A', 'partir', 'de', 'los', '26', 'años', 'se', 'realizarán', 'acciones', 'centralizadas', 'para', 'sustituir', 'la', 'tarjeta', 'por', 'una', 'tarjeta', 'de', 'crédito', 'o', 'una', 'Express', 'Visa', 'débito', 'Oro:', '50€', 'La', 'tarjeta', 'es', 'gratuita', 'el', 'primer', 'año.', 'Para', 'los', 'siguientes', 'años', 'será', 'gratuita,', 'si', 'el', 'cliente', 'domicilia', 'la', 'pensión', 'y', 'realiza', 'compras', 'por', 'más', 'de', '300', '€', 'por', 'tarjeta', 'Se', 'bonificará', 'a', 'colectivos', 'de', 'alto', 'valor', 'y', 'clientes', 'de', 'Banca', 'Asociada', '(funcionarios,', 'empleados', 'de', 'grandes', 'empresas,', 'etc.).']]\n",
      "['Cuota', 'anual', 'de', 'una', 'tarjeta', 'de', 'débito', 'es', 'gratuita', 'hasta', 'los', '26', 'años.', 'A', 'partir', 'de', 'los', '26', 'años', 'se', 'realizarán', 'acciones', 'centralizadas', 'para', 'sustituir', 'la', 'tarjeta', 'por', 'una', 'tarjeta', 'de', 'crédito', 'o', 'una', 'Express', 'Visa', 'débito', 'Oro:', '<b>50€</b>.', 'La', 'tarjeta', 'es', 'gratuita', 'el', 'primer', 'año.', 'Para', 'los', 'siguientes', 'años', 'será', 'gratuita,', 'si', 'el', 'cliente', 'domicilia', 'la', 'pensión', 'y', 'realiza', 'compras', 'por', 'más', 'de', '300', '€', 'por', 'tarjeta.']\n"
     ]
    },
    {
     "ename": "TypeError",
     "evalue": "Fraction.__new__() got an unexpected keyword argument '_normalize'",
     "output_type": "error",
     "traceback": [
      "\u001b[0;31m---------------------------------------------------------------------------\u001b[0m",
      "\u001b[0;31mTypeError\u001b[0m                                 Traceback (most recent call last)",
      "Cell \u001b[0;32mIn[9], line 9\u001b[0m\n\u001b[1;32m      7\u001b[0m \u001b[39mprint\u001b[39m(reference_answer_split)\n\u001b[1;32m      8\u001b[0m \u001b[39mprint\u001b[39m(generated_answer_split)\n\u001b[0;32m----> 9\u001b[0m score \u001b[39m=\u001b[39m sentence_bleu(reference_answer_split, generated_answer_split)\n\u001b[1;32m     10\u001b[0m \u001b[39mprint\u001b[39m(score)\n",
      "File \u001b[0;32m/Library/Frameworks/Python.framework/Versions/3.12/lib/python3.12/site-packages/nltk/translate/bleu_score.py:107\u001b[0m, in \u001b[0;36msentence_bleu\u001b[0;34m(references, hypothesis, weights, smoothing_function, auto_reweigh)\u001b[0m\n\u001b[1;32m     20\u001b[0m \u001b[39mdef\u001b[39;00m \u001b[39msentence_bleu\u001b[39m(\n\u001b[1;32m     21\u001b[0m     references,\n\u001b[1;32m     22\u001b[0m     hypothesis,\n\u001b[0;32m   (...)\u001b[0m\n\u001b[1;32m     25\u001b[0m     auto_reweigh\u001b[39m=\u001b[39m\u001b[39mFalse\u001b[39;00m,\n\u001b[1;32m     26\u001b[0m ):\n\u001b[1;32m     27\u001b[0m \u001b[39m    \u001b[39m\u001b[39m\"\"\"\u001b[39;00m\n\u001b[1;32m     28\u001b[0m \u001b[39m    Calculate BLEU score (Bilingual Evaluation Understudy) from\u001b[39;00m\n\u001b[1;32m     29\u001b[0m \u001b[39m    Papineni, Kishore, Salim Roukos, Todd Ward, and Wei-Jing Zhu. 2002.\u001b[39;00m\n\u001b[0;32m   (...)\u001b[0m\n\u001b[1;32m    105\u001b[0m \u001b[39m    :rtype: float / list(float)\u001b[39;00m\n\u001b[1;32m    106\u001b[0m \u001b[39m    \"\"\"\u001b[39;00m\n\u001b[0;32m--> 107\u001b[0m     \u001b[39mreturn\u001b[39;00m corpus_bleu(\n\u001b[1;32m    108\u001b[0m         [references], [hypothesis], weights, smoothing_function, auto_reweigh\n\u001b[1;32m    109\u001b[0m     )\n",
      "File \u001b[0;32m/Library/Frameworks/Python.framework/Versions/3.12/lib/python3.12/site-packages/nltk/translate/bleu_score.py:210\u001b[0m, in \u001b[0;36mcorpus_bleu\u001b[0;34m(list_of_references, hypotheses, weights, smoothing_function, auto_reweigh)\u001b[0m\n\u001b[1;32m    206\u001b[0m \u001b[39mfor\u001b[39;00m references, hypothesis \u001b[39min\u001b[39;00m \u001b[39mzip\u001b[39m(list_of_references, hypotheses):\n\u001b[1;32m    207\u001b[0m     \u001b[39m# For each order of ngram, calculate the numerator and\u001b[39;00m\n\u001b[1;32m    208\u001b[0m     \u001b[39m# denominator for the corpus-level modified precision.\u001b[39;00m\n\u001b[1;32m    209\u001b[0m     \u001b[39mfor\u001b[39;00m i \u001b[39min\u001b[39;00m \u001b[39mrange\u001b[39m(\u001b[39m1\u001b[39m, max_weight_length \u001b[39m+\u001b[39m \u001b[39m1\u001b[39m):\n\u001b[0;32m--> 210\u001b[0m         p_i \u001b[39m=\u001b[39m modified_precision(references, hypothesis, i)\n\u001b[1;32m    211\u001b[0m         p_numerators[i] \u001b[39m+\u001b[39m\u001b[39m=\u001b[39m p_i\u001b[39m.\u001b[39mnumerator\n\u001b[1;32m    212\u001b[0m         p_denominators[i] \u001b[39m+\u001b[39m\u001b[39m=\u001b[39m p_i\u001b[39m.\u001b[39mdenominator\n",
      "File \u001b[0;32m/Library/Frameworks/Python.framework/Versions/3.12/lib/python3.12/site-packages/nltk/translate/bleu_score.py:368\u001b[0m, in \u001b[0;36mmodified_precision\u001b[0;34m(references, hypothesis, n)\u001b[0m\n\u001b[1;32m    364\u001b[0m \u001b[39m# Ensures that denominator is minimum 1 to avoid ZeroDivisionError.\u001b[39;00m\n\u001b[1;32m    365\u001b[0m \u001b[39m# Usually this happens when the ngram order is > len(reference).\u001b[39;00m\n\u001b[1;32m    366\u001b[0m denominator \u001b[39m=\u001b[39m \u001b[39mmax\u001b[39m(\u001b[39m1\u001b[39m, \u001b[39msum\u001b[39m(counts\u001b[39m.\u001b[39mvalues()))\n\u001b[0;32m--> 368\u001b[0m \u001b[39mreturn\u001b[39;00m Fraction(numerator, denominator, _normalize\u001b[39m=\u001b[39;49m\u001b[39mFalse\u001b[39;49;00m)\n",
      "\u001b[0;31mTypeError\u001b[0m: Fraction.__new__() got an unexpected keyword argument '_normalize'"
     ]
    }
   ],
   "source": [
    "from nltk.translate.bleu_score import sentence_bleu\n",
    "reference_answer = \"Se cierra la contratación de VISA DÉBITO para clientes entre 30 y 60 años. La operativa recomendará la contratación de VISA Express con límite recomendado : clientes con límite preconcedido, análisis de riesgo o suficiente límite de crédito. Express con 200 € de límite de crédito : clientes sin suficiente límite disponible para tarjeta de crédito, con probabilidad de mora inferior a 10 y sin impagados en UOCBank ni externos. Express con 500 € (sin necesidad de elevar al CARP): clientes sin impagados en UOCBank. Express con un límite de crédito acorde al perfil : clientes que deseen una de tarjeta de débito. Clientes entre 12 y 30 años Clientes mayores de 30 años Clientes mayores de 60 años Se ofrecerá Visa débito joven Tarjeta de débito Oro, sólo cuando el cliente no pueda disponer de riesgo Visa débito senior Los 40 Débito Visa débito UOCBank Visa débito Oro, sólo cuando el cliente no pueda disponer de riesgo Carnets Jóvenes Cuota anual Las tarjetas son gratuitas hasta los 26 años. A partir de los 26 años se realizarán acciones centralizadas para sustituir la tarjeta por una tarjeta de crédito o una Express Visa débito Oro: 50€ La tarjeta es gratuita el primer año. Para los siguientes años será gratuita, si el cliente domicilia la pensión y realiza compras por más de 300 € por tarjeta Se bonificará a colectivos de alto valor y clientes de Banca Asociada (funcionarios, empleados de grandes empresas, etc.).\"\n",
    "generated_answer = \"Cuota anual de una tarjeta de débito es gratuita hasta los 26 años. A partir de los 26 años se realizarán acciones centralizadas para sustituir la tarjeta por una tarjeta de crédito o una Express Visa débito Oro: <b>50€</b>. La tarjeta es gratuita el primer año. Para los siguientes años será gratuita, si el cliente domicilia la pensión y realiza compras por más de 300 € por tarjeta.\"\n",
    "\n",
    "reference_answer_split = [reference_answer.split(' ')]\n",
    "generated_answer_split = generated_answer.split(' ')\n",
    "print(reference_answer_split)\n",
    "print(generated_answer_split)\n",
    "score = sentence_bleu(reference_answer_split, generated_answer_split)\n",
    "print(score)"
   ]
  },
  {
   "cell_type": "code",
   "execution_count": 7,
   "metadata": {},
   "outputs": [
    {
     "name": "stderr",
     "output_type": "stream",
     "text": [
      "[nltk_data] Downloading package punkt to\n",
      "[nltk_data]     /Users/laurahervas/nltk_data...\n",
      "[nltk_data]   Package punkt is already up-to-date!\n",
      "[nltk_data] Downloading package wordnet to\n",
      "[nltk_data]     /Users/laurahervas/nltk_data...\n"
     ]
    },
    {
     "data": {
      "text/plain": [
       "True"
      ]
     },
     "execution_count": 7,
     "metadata": {},
     "output_type": "execute_result"
    }
   ],
   "source": [
    "nltk.download('punkt')\n",
    "nltk.download('wordnet')"
   ]
  },
  {
   "cell_type": "code",
   "execution_count": 8,
   "metadata": {},
   "outputs": [
    {
     "name": "stderr",
     "output_type": "stream",
     "text": [
      "[nltk_data] Downloading package wordnet to data/nltk_data...\n",
      "[nltk_data]   Package wordnet is already up-to-date!\n"
     ]
    },
    {
     "name": "stdout",
     "output_type": "stream",
     "text": [
      "0.2886540293704659\n"
     ]
    }
   ],
   "source": [
    "from nltk.translate import meteor_score\n",
    "from nltk import word_tokenize\n",
    "\n",
    "import nltk\n",
    "# Calculate the BLEU score\n",
    "nltk.download(\"wordnet\", download_dir=\"data/nltk_data\")\n",
    "\n",
    "reference_answer = \"Se cierra la contratación de VISA DÉBITO para clientes entre 30 y 60 años. La operativa recomendará la contratación de VISA Express con límite recomendado : clientes con límite preconcedido, análisis de riesgo o suficiente límite de crédito. Express con 200 € de límite de crédito : clientes sin suficiente límite disponible para tarjeta de crédito, con probabilidad de mora inferior a 10 y sin impagados en UOCBank ni externos. Express con 500 € (sin necesidad de elevar al CARP): clientes sin impagados en UOCBank. Express con un límite de crédito acorde al perfil : clientes que deseen una de tarjeta de débito. Clientes entre 12 y 30 años Clientes mayores de 30 años Clientes mayores de 60 años Se ofrecerá Visa débito joven Tarjeta de débito Oro, sólo cuando el cliente no pueda disponer de riesgo Visa débito senior Los 40 Débito Visa débito UOCBank Visa débito Oro, sólo cuando el cliente no pueda disponer de riesgo Carnets Jóvenes Cuota anual Las tarjetas son gratuitas hasta los 26 años. A partir de los 26 años se realizarán acciones centralizadas para sustituir la tarjeta por una tarjeta de crédito o una Express Visa débito Oro: 50€ La tarjeta es gratuita el primer año. Para los siguientes años será gratuita, si el cliente domicilia la pensión y realiza compras por más de 300 € por tarjeta Se bonificará a colectivos de alto valor y clientes de Banca Asociada (funcionarios, empleados de grandes empresas, etc.).\"\n",
    "generated_answer = \"Cuota anual de una tarjeta de débito es gratuita hasta los 26 años. A partir de los 26 años se realizarán acciones centralizadas para sustituir la tarjeta por una tarjeta de crédito o una Express Visa débito Oro: <b>50€</b>. La tarjeta es gratuita el primer año. Para los siguientes años será gratuita, si el cliente domicilia la pensión y realiza compras por más de 300 € por tarjeta.\"\n",
    "\n",
    "tokenized_reference = word_tokenize(reference_answer)\n",
    "tokenized_candidate = word_tokenize(generated_answer)\n",
    "score = meteor_score.meteor_score([tokenized_reference], tokenized_candidate)\n",
    "print(score)"
   ]
  },
  {
   "cell_type": "code",
   "execution_count": 11,
   "metadata": {},
   "outputs": [
    {
     "name": "stdout",
     "output_type": "stream",
     "text": [
      "Requirement already satisfied: torch in /Library/Frameworks/Python.framework/Versions/3.12/lib/python3.12/site-packages (2.2.2)\n",
      "Requirement already satisfied: filelock in /Library/Frameworks/Python.framework/Versions/3.12/lib/python3.12/site-packages (from torch) (3.13.3)\n",
      "Requirement already satisfied: typing-extensions>=4.8.0 in /Library/Frameworks/Python.framework/Versions/3.12/lib/python3.12/site-packages (from torch) (4.11.0)\n",
      "Requirement already satisfied: sympy in /Library/Frameworks/Python.framework/Versions/3.12/lib/python3.12/site-packages (from torch) (1.12)\n",
      "Requirement already satisfied: networkx in /Library/Frameworks/Python.framework/Versions/3.12/lib/python3.12/site-packages (from torch) (3.2.1)\n",
      "Requirement already satisfied: jinja2 in /Library/Frameworks/Python.framework/Versions/3.12/lib/python3.12/site-packages (from torch) (3.1.3)\n",
      "Requirement already satisfied: fsspec in /Library/Frameworks/Python.framework/Versions/3.12/lib/python3.12/site-packages (from torch) (2024.3.1)\n",
      "Requirement already satisfied: MarkupSafe>=2.0 in /Library/Frameworks/Python.framework/Versions/3.12/lib/python3.12/site-packages (from jinja2->torch) (2.1.5)\n",
      "Requirement already satisfied: mpmath>=0.19 in /Library/Frameworks/Python.framework/Versions/3.12/lib/python3.12/site-packages (from sympy->torch) (1.3.0)\n",
      "Note: you may need to restart the kernel to use updated packages.\n"
     ]
    }
   ],
   "source": [
    "pip install torch"
   ]
  },
  {
   "cell_type": "code",
   "execution_count": 12,
   "metadata": {},
   "outputs": [
    {
     "name": "stdout",
     "output_type": "stream",
     "text": [
      "Collecting bert-score\n",
      "  Downloading bert_score-0.3.13-py3-none-any.whl.metadata (15 kB)\n",
      "Requirement already satisfied: torch>=1.0.0 in /Library/Frameworks/Python.framework/Versions/3.12/lib/python3.12/site-packages (from bert-score) (2.2.2)\n",
      "Requirement already satisfied: pandas>=1.0.1 in /Library/Frameworks/Python.framework/Versions/3.12/lib/python3.12/site-packages (from bert-score) (2.2.1)\n",
      "Requirement already satisfied: transformers>=3.0.0 in /Library/Frameworks/Python.framework/Versions/3.12/lib/python3.12/site-packages (from bert-score) (4.39.3)\n",
      "Requirement already satisfied: numpy in /Library/Frameworks/Python.framework/Versions/3.12/lib/python3.12/site-packages (from bert-score) (1.26.4)\n",
      "Requirement already satisfied: requests in /Library/Frameworks/Python.framework/Versions/3.12/lib/python3.12/site-packages (from bert-score) (2.31.0)\n",
      "Requirement already satisfied: tqdm>=4.31.1 in /Library/Frameworks/Python.framework/Versions/3.12/lib/python3.12/site-packages (from bert-score) (4.66.2)\n",
      "Requirement already satisfied: matplotlib in /Library/Frameworks/Python.framework/Versions/3.12/lib/python3.12/site-packages (from bert-score) (3.8.4)\n",
      "Requirement already satisfied: packaging>=20.9 in /Library/Frameworks/Python.framework/Versions/3.12/lib/python3.12/site-packages (from bert-score) (23.2)\n",
      "Requirement already satisfied: python-dateutil>=2.8.2 in /Users/laurahervas/Library/Python/3.12/lib/python/site-packages (from pandas>=1.0.1->bert-score) (2.9.0.post0)\n",
      "Requirement already satisfied: pytz>=2020.1 in /Library/Frameworks/Python.framework/Versions/3.12/lib/python3.12/site-packages (from pandas>=1.0.1->bert-score) (2024.1)\n",
      "Requirement already satisfied: tzdata>=2022.7 in /Library/Frameworks/Python.framework/Versions/3.12/lib/python3.12/site-packages (from pandas>=1.0.1->bert-score) (2024.1)\n",
      "Requirement already satisfied: filelock in /Library/Frameworks/Python.framework/Versions/3.12/lib/python3.12/site-packages (from torch>=1.0.0->bert-score) (3.13.3)\n",
      "Requirement already satisfied: typing-extensions>=4.8.0 in /Library/Frameworks/Python.framework/Versions/3.12/lib/python3.12/site-packages (from torch>=1.0.0->bert-score) (4.11.0)\n",
      "Requirement already satisfied: sympy in /Library/Frameworks/Python.framework/Versions/3.12/lib/python3.12/site-packages (from torch>=1.0.0->bert-score) (1.12)\n",
      "Requirement already satisfied: networkx in /Library/Frameworks/Python.framework/Versions/3.12/lib/python3.12/site-packages (from torch>=1.0.0->bert-score) (3.2.1)\n",
      "Requirement already satisfied: jinja2 in /Library/Frameworks/Python.framework/Versions/3.12/lib/python3.12/site-packages (from torch>=1.0.0->bert-score) (3.1.3)\n",
      "Requirement already satisfied: fsspec in /Library/Frameworks/Python.framework/Versions/3.12/lib/python3.12/site-packages (from torch>=1.0.0->bert-score) (2024.3.1)\n",
      "Requirement already satisfied: huggingface-hub<1.0,>=0.19.3 in /Library/Frameworks/Python.framework/Versions/3.12/lib/python3.12/site-packages (from transformers>=3.0.0->bert-score) (0.22.2)\n",
      "Requirement already satisfied: pyyaml>=5.1 in /Library/Frameworks/Python.framework/Versions/3.12/lib/python3.12/site-packages (from transformers>=3.0.0->bert-score) (6.0.1)\n",
      "Requirement already satisfied: regex!=2019.12.17 in /Library/Frameworks/Python.framework/Versions/3.12/lib/python3.12/site-packages (from transformers>=3.0.0->bert-score) (2023.12.25)\n",
      "Requirement already satisfied: tokenizers<0.19,>=0.14 in /Library/Frameworks/Python.framework/Versions/3.12/lib/python3.12/site-packages (from transformers>=3.0.0->bert-score) (0.15.2)\n",
      "Requirement already satisfied: safetensors>=0.4.1 in /Library/Frameworks/Python.framework/Versions/3.12/lib/python3.12/site-packages (from transformers>=3.0.0->bert-score) (0.4.2)\n",
      "Requirement already satisfied: contourpy>=1.0.1 in /Library/Frameworks/Python.framework/Versions/3.12/lib/python3.12/site-packages (from matplotlib->bert-score) (1.2.1)\n",
      "Requirement already satisfied: cycler>=0.10 in /Library/Frameworks/Python.framework/Versions/3.12/lib/python3.12/site-packages (from matplotlib->bert-score) (0.12.1)\n",
      "Requirement already satisfied: fonttools>=4.22.0 in /Library/Frameworks/Python.framework/Versions/3.12/lib/python3.12/site-packages (from matplotlib->bert-score) (4.51.0)\n",
      "Requirement already satisfied: kiwisolver>=1.3.1 in /Library/Frameworks/Python.framework/Versions/3.12/lib/python3.12/site-packages (from matplotlib->bert-score) (1.4.5)\n",
      "Requirement already satisfied: pillow>=8 in /Library/Frameworks/Python.framework/Versions/3.12/lib/python3.12/site-packages (from matplotlib->bert-score) (10.2.0)\n",
      "Requirement already satisfied: pyparsing>=2.3.1 in /Library/Frameworks/Python.framework/Versions/3.12/lib/python3.12/site-packages (from matplotlib->bert-score) (3.1.2)\n",
      "Requirement already satisfied: charset-normalizer<4,>=2 in /Library/Frameworks/Python.framework/Versions/3.12/lib/python3.12/site-packages (from requests->bert-score) (3.3.2)\n",
      "Requirement already satisfied: idna<4,>=2.5 in /Library/Frameworks/Python.framework/Versions/3.12/lib/python3.12/site-packages (from requests->bert-score) (3.6)\n",
      "Requirement already satisfied: urllib3<3,>=1.21.1 in /Library/Frameworks/Python.framework/Versions/3.12/lib/python3.12/site-packages (from requests->bert-score) (2.2.1)\n",
      "Requirement already satisfied: certifi>=2017.4.17 in /Library/Frameworks/Python.framework/Versions/3.12/lib/python3.12/site-packages (from requests->bert-score) (2024.2.2)\n",
      "Requirement already satisfied: six>=1.5 in /Library/Frameworks/Python.framework/Versions/3.12/lib/python3.12/site-packages (from python-dateutil>=2.8.2->pandas>=1.0.1->bert-score) (1.16.0)\n",
      "Requirement already satisfied: MarkupSafe>=2.0 in /Library/Frameworks/Python.framework/Versions/3.12/lib/python3.12/site-packages (from jinja2->torch>=1.0.0->bert-score) (2.1.5)\n",
      "Requirement already satisfied: mpmath>=0.19 in /Library/Frameworks/Python.framework/Versions/3.12/lib/python3.12/site-packages (from sympy->torch>=1.0.0->bert-score) (1.3.0)\n",
      "Downloading bert_score-0.3.13-py3-none-any.whl (61 kB)\n",
      "\u001b[2K   \u001b[90m━━━━━━━━━━━━━━━━━━━━━━━━━━━━━━━━━━━━━━━━\u001b[0m \u001b[32m61.1/61.1 kB\u001b[0m \u001b[31m2.5 MB/s\u001b[0m eta \u001b[36m0:00:00\u001b[0m\n",
      "\u001b[?25hInstalling collected packages: bert-score\n",
      "Successfully installed bert-score-0.3.13\n",
      "Note: you may need to restart the kernel to use updated packages.\n"
     ]
    }
   ],
   "source": [
    "pip install bert-score"
   ]
  },
  {
   "cell_type": "code",
   "execution_count": 16,
   "metadata": {},
   "outputs": [
    {
     "name": "stdout",
     "output_type": "stream",
     "text": [
      "calculating scores...\n",
      "computing bert embedding.\n"
     ]
    },
    {
     "name": "stderr",
     "output_type": "stream",
     "text": [
      "100%|██████████| 1/1 [00:00<00:00,  3.32it/s]\n"
     ]
    },
    {
     "name": "stdout",
     "output_type": "stream",
     "text": [
      "computing greedy matching.\n"
     ]
    },
    {
     "name": "stderr",
     "output_type": "stream",
     "text": [
      "100%|██████████| 1/1 [00:00<00:00, 339.78it/s]"
     ]
    },
    {
     "name": "stdout",
     "output_type": "stream",
     "text": [
      "done in 0.31 seconds, 3.26 sentences/sec\n",
      "F1-score tensor([0.7623])\n",
      "Precision tensor([0.8451])\n",
      "Recall tensor([0.6943])\n"
     ]
    },
    {
     "name": "stderr",
     "output_type": "stream",
     "text": [
      "\n"
     ]
    }
   ],
   "source": [
    "import torch\n",
    "from bert_score import score\n",
    "\n",
    "reference_answer = [\"Se cierra la contratación de VISA DÉBITO para clientes entre 30 y 60 años. La operativa recomendará la contratación de VISA Express con límite recomendado : clientes con límite preconcedido, análisis de riesgo o suficiente límite de crédito. Express con 200 € de límite de crédito : clientes sin suficiente límite disponible para tarjeta de crédito, con probabilidad de mora inferior a 10 y sin impagados en UOCBank ni externos. Express con 500 € (sin necesidad de elevar al CARP): clientes sin impagados en UOCBank. Express con un límite de crédito acorde al perfil : clientes que deseen una de tarjeta de débito. Clientes entre 12 y 30 años Clientes mayores de 30 años Clientes mayores de 60 años Se ofrecerá Visa débito joven Tarjeta de débito Oro, sólo cuando el cliente no pueda disponer de riesgo Visa débito senior Los 40 Débito Visa débito UOCBank Visa débito Oro, sólo cuando el cliente no pueda disponer de riesgo Carnets Jóvenes Cuota anual Las tarjetas son gratuitas hasta los 26 años. A partir de los 26 años se realizarán acciones centralizadas para sustituir la tarjeta por una tarjeta de crédito o una Express Visa débito Oro: 50€ La tarjeta es gratuita el primer año. Para los siguientes años será gratuita, si el cliente domicilia la pensión y realiza compras por más de 300 € por tarjeta Se bonificará a colectivos de alto valor y clientes de Banca Asociada (funcionarios, empleados de grandes empresas, etc.).\"]\n",
    "generated_answer = [\"Cuota anual de una tarjeta de débito es gratuita hasta los 26 años. A partir de los 26 años se realizarán acciones centralizadas para sustituir la tarjeta por una tarjeta de crédito o una Express Visa débito Oro: <b>50€</b>. La tarjeta es gratuita el primer año. Para los siguientes años será gratuita, si el cliente domicilia la pensión y realiza compras por más de 300 € por tarjeta.\"]\n",
    "\n",
    "P, R, F1 = score(generated_answer, reference_answer, lang=\"es\", verbose=True)\n",
    "print(\"F1-score\",F1)\n",
    "print(\"Precision\",P)\n",
    "print(\"Recall\",R)"
   ]
  }
 ],
 "metadata": {
  "language_info": {
   "name": "python"
  }
 },
 "nbformat": 4,
 "nbformat_minor": 2
}
