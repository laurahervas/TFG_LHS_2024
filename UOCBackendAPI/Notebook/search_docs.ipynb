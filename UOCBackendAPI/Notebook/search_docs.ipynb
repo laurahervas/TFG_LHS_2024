{
 "cells": [
  {
   "cell_type": "code",
   "execution_count": null,
   "metadata": {},
   "outputs": [],
   "source": [
    "pip install matplotlib"
   ]
  },
  {
   "cell_type": "code",
   "execution_count": 21,
   "metadata": {},
   "outputs": [],
   "source": [
    "import pandas as pd\n",
    "import string\n",
    "import numpy as np\n",
    "import matplotlib.pyplot as plt"
   ]
  },
  {
   "cell_type": "code",
   "execution_count": 3,
   "metadata": {},
   "outputs": [
    {
     "data": {
      "text/html": [
       "<div>\n",
       "<style scoped>\n",
       "    .dataframe tbody tr th:only-of-type {\n",
       "        vertical-align: middle;\n",
       "    }\n",
       "\n",
       "    .dataframe tbody tr th {\n",
       "        vertical-align: top;\n",
       "    }\n",
       "\n",
       "    .dataframe thead th {\n",
       "        text-align: right;\n",
       "    }\n",
       "</style>\n",
       "<table border=\"1\" class=\"dataframe\">\n",
       "  <thead>\n",
       "    <tr style=\"text-align: right;\">\n",
       "      <th></th>\n",
       "      <th>Unnamed: 0</th>\n",
       "      <th>CODIGO_FAQ</th>\n",
       "      <th>title_found</th>\n",
       "      <th>texto</th>\n",
       "      <th>variaciones</th>\n",
       "      <th>num_variaciones</th>\n",
       "      <th>motivo</th>\n",
       "      <th>intent</th>\n",
       "      <th>num_tokens</th>\n",
       "    </tr>\n",
       "  </thead>\n",
       "  <tbody>\n",
       "    <tr>\n",
       "      <th>0</th>\n",
       "      <td>0</td>\n",
       "      <td>433243</td>\n",
       "      <td>Visa Lidl para empleados del grupo Lidl</td>\n",
       "      <td>¿A quién está dirigida? La Visa Lidl Empleado ...</td>\n",
       "      <td>['Tarjeta para empleados Lidl', 'solicitar UNA...</td>\n",
       "      <td>22</td>\n",
       "      <td>NaN</td>\n",
       "      <td>Visa_Lidl_para_empleados_del_grupo_Lidl</td>\n",
       "      <td>1007</td>\n",
       "    </tr>\n",
       "    <tr>\n",
       "      <th>1</th>\n",
       "      <td>1</td>\n",
       "      <td>419915</td>\n",
       "      <td>¿Cómo puedo anular el cobro de una liquidación...</td>\n",
       "      <td>¿Cómo puedo anular el cobro de una liquidación...</td>\n",
       "      <td>['Anular cobro liquidación tarjeta oficina', '...</td>\n",
       "      <td>20</td>\n",
       "      <td>NaN</td>\n",
       "      <td>_Como_puedo_anular_el_cobro_de_una_liquidacion...</td>\n",
       "      <td>74</td>\n",
       "    </tr>\n",
       "    <tr>\n",
       "      <th>2</th>\n",
       "      <td>2</td>\n",
       "      <td>421998</td>\n",
       "      <td>¿Cómo puedo modificar un contrato de tarjeta p...</td>\n",
       "      <td>¿Cómo puedo modificar un contrato de tarjeta p...</td>\n",
       "      <td>['motivo cambio de límite Tarjeta', 'como renu...</td>\n",
       "      <td>18</td>\n",
       "      <td>NaN</td>\n",
       "      <td>_Como_puedo_modificar_un_contrato_de_tarjeta_p...</td>\n",
       "      <td>122</td>\n",
       "    </tr>\n",
       "    <tr>\n",
       "      <th>3</th>\n",
       "      <td>3</td>\n",
       "      <td>423029</td>\n",
       "      <td>¿Cómo modificar la forma o importe de cobro de...</td>\n",
       "      <td>¿Cuál es la comisión por recargar una tarjeta ...</td>\n",
       "      <td>['Qué hago para cambiar la forma de cobro de l...</td>\n",
       "      <td>21</td>\n",
       "      <td>NaN</td>\n",
       "      <td>Como_modificar_la_forma_o_importe_de_cobro_de_...</td>\n",
       "      <td>380</td>\n",
       "    </tr>\n",
       "    <tr>\n",
       "      <th>4</th>\n",
       "      <td>4</td>\n",
       "      <td>422618</td>\n",
       "      <td>¿Cuáles son los plazos de recepción de las tar...</td>\n",
       "      <td>¿De que depende el plazo de recepción de las t...</td>\n",
       "      <td>['Por dónde veo los plazos de recepción de las...</td>\n",
       "      <td>29</td>\n",
       "      <td>NaN</td>\n",
       "      <td>Cuales_son_los_plazos_de_recepcion_de_las_tarj...</td>\n",
       "      <td>680</td>\n",
       "    </tr>\n",
       "  </tbody>\n",
       "</table>\n",
       "</div>"
      ],
      "text/plain": [
       "   Unnamed: 0  CODIGO_FAQ                                        title_found  \\\n",
       "0           0      433243            Visa Lidl para empleados del grupo Lidl   \n",
       "1           1      419915  ¿Cómo puedo anular el cobro de una liquidación...   \n",
       "2           2      421998  ¿Cómo puedo modificar un contrato de tarjeta p...   \n",
       "3           3      423029  ¿Cómo modificar la forma o importe de cobro de...   \n",
       "4           4      422618  ¿Cuáles son los plazos de recepción de las tar...   \n",
       "\n",
       "                                               texto  \\\n",
       "0  ¿A quién está dirigida? La Visa Lidl Empleado ...   \n",
       "1  ¿Cómo puedo anular el cobro de una liquidación...   \n",
       "2  ¿Cómo puedo modificar un contrato de tarjeta p...   \n",
       "3  ¿Cuál es la comisión por recargar una tarjeta ...   \n",
       "4  ¿De que depende el plazo de recepción de las t...   \n",
       "\n",
       "                                         variaciones  num_variaciones  motivo  \\\n",
       "0  ['Tarjeta para empleados Lidl', 'solicitar UNA...               22     NaN   \n",
       "1  ['Anular cobro liquidación tarjeta oficina', '...               20     NaN   \n",
       "2  ['motivo cambio de límite Tarjeta', 'como renu...               18     NaN   \n",
       "3  ['Qué hago para cambiar la forma de cobro de l...               21     NaN   \n",
       "4  ['Por dónde veo los plazos de recepción de las...               29     NaN   \n",
       "\n",
       "                                              intent  num_tokens  \n",
       "0            Visa_Lidl_para_empleados_del_grupo_Lidl        1007  \n",
       "1  _Como_puedo_anular_el_cobro_de_una_liquidacion...          74  \n",
       "2  _Como_puedo_modificar_un_contrato_de_tarjeta_p...         122  \n",
       "3  Como_modificar_la_forma_o_importe_de_cobro_de_...         380  \n",
       "4  Cuales_son_los_plazos_de_recepcion_de_las_tarj...         680  "
      ]
     },
     "execution_count": 3,
     "metadata": {},
     "output_type": "execute_result"
    }
   ],
   "source": [
    "df_docs_uoc = pd.read_excel('data/corpus_con_variaciones_20240427_uoc_ofuscado.xlsx')\n",
    "df_docs_uoc = df_docs_uoc.dropna(subset=['body texto'])\n",
    "df_docs_uoc.head()"
   ]
  },
  {
   "cell_type": "code",
   "execution_count": 4,
   "metadata": {},
   "outputs": [],
   "source": [
    "MAX_LENGTH = 250\n",
    "MIN_LENGTH = 50"
   ]
  },
  {
   "cell_type": "code",
   "execution_count": 5,
   "metadata": {},
   "outputs": [],
   "source": [
    "def get_chunks(text):\n",
    "    chunks = []\n",
    "    chunk = ''\n",
    "    spli = text.split('. ')\n",
    "    if len(spli)==1:\n",
    "        chunks =  [text]\n",
    "    else:\n",
    "        for c in spli:\n",
    "            if len(chunk) + len(c) < MAX_LENGTH:\n",
    "                chunk += c\n",
    "            else:\n",
    "                if len(chunk)>0:\n",
    "                    chunks.append(chunk)\n",
    "                chunk = c\n",
    "        if len(chunk) > 0:\n",
    "            if len(chunk)<MIN_LENGTH:\n",
    "                chunks[len(chunks)-1] = chunks[len(chunks)-1] + chunk\n",
    "            else:\n",
    "                chunks.append(chunk)\n",
    "    l = []\n",
    "    return chunks"
   ]
  },
  {
   "cell_type": "code",
   "execution_count": 6,
   "metadata": {},
   "outputs": [],
   "source": [
    "def split_by_line_break(text):\n",
    "    MIN_CHUNK = 10\n",
    "    chunks = []\n",
    "    for i in text.split('\\n'):\n",
    "        if len(i)>MIN_CHUNK:\n",
    "            chunks.append(i)\n",
    "    return chunks"
   ]
  },
  {
   "cell_type": "code",
   "execution_count": 33,
   "metadata": {},
   "outputs": [],
   "source": [
    "df_docs_uoc['chunks'] = df_docs_uoc['texto'].apply(get_chunks)"
   ]
  },
  {
   "cell_type": "code",
   "execution_count": 30,
   "metadata": {},
   "outputs": [],
   "source": [
    "df_docs_uoc['chunks2'] = df_docs_uoc['texto'].apply(split_by_line_break)"
   ]
  },
  {
   "cell_type": "code",
   "execution_count": 34,
   "metadata": {},
   "outputs": [
    {
     "data": {
      "text/html": [
       "<div>\n",
       "<style scoped>\n",
       "    .dataframe tbody tr th:only-of-type {\n",
       "        vertical-align: middle;\n",
       "    }\n",
       "\n",
       "    .dataframe tbody tr th {\n",
       "        vertical-align: top;\n",
       "    }\n",
       "\n",
       "    .dataframe thead th {\n",
       "        text-align: right;\n",
       "    }\n",
       "</style>\n",
       "<table border=\"1\" class=\"dataframe\">\n",
       "  <thead>\n",
       "    <tr style=\"text-align: right;\">\n",
       "      <th></th>\n",
       "      <th>Unnamed: 0</th>\n",
       "      <th>CODIGO_FAQ</th>\n",
       "      <th>title_found</th>\n",
       "      <th>texto</th>\n",
       "      <th>variaciones</th>\n",
       "      <th>num_variaciones</th>\n",
       "      <th>motivo</th>\n",
       "      <th>intent</th>\n",
       "      <th>num_tokens</th>\n",
       "      <th>chunks</th>\n",
       "      <th>chunks1</th>\n",
       "      <th>chunks2</th>\n",
       "    </tr>\n",
       "  </thead>\n",
       "  <tbody>\n",
       "    <tr>\n",
       "      <th>0</th>\n",
       "      <td>0</td>\n",
       "      <td>433243</td>\n",
       "      <td>Visa Lidl para empleados del grupo Lidl</td>\n",
       "      <td>¿A quién está dirigida? La Visa Lidl Empleado ...</td>\n",
       "      <td>['Tarjeta para empleados Lidl', 'solicitar UNA...</td>\n",
       "      <td>22</td>\n",
       "      <td>NaN</td>\n",
       "      <td>Visa_Lidl_para_empleados_del_grupo_Lidl</td>\n",
       "      <td>1007</td>\n",
       "      <td>[¿A quién está dirigida? La Visa Lidl Empleado...</td>\n",
       "      <td>[¿A quién está dirigida? La Visa Lidl Empleado...</td>\n",
       "      <td>[¿A quién está dirigida? La Visa Lidl Empleado...</td>\n",
       "    </tr>\n",
       "    <tr>\n",
       "      <th>1</th>\n",
       "      <td>1</td>\n",
       "      <td>419915</td>\n",
       "      <td>¿Cómo puedo anular el cobro de una liquidación...</td>\n",
       "      <td>¿Cómo puedo anular el cobro de una liquidación...</td>\n",
       "      <td>['Anular cobro liquidación tarjeta oficina', '...</td>\n",
       "      <td>20</td>\n",
       "      <td>NaN</td>\n",
       "      <td>_Como_puedo_anular_el_cobro_de_una_liquidacion...</td>\n",
       "      <td>74</td>\n",
       "      <td>[¿Cómo puedo anular el cobro de una liquidació...</td>\n",
       "      <td>[¿Cómo puedo anular el cobro de una liquidació...</td>\n",
       "      <td>[¿Cómo puedo anular el cobro de una liquidació...</td>\n",
       "    </tr>\n",
       "    <tr>\n",
       "      <th>2</th>\n",
       "      <td>2</td>\n",
       "      <td>421998</td>\n",
       "      <td>¿Cómo puedo modificar un contrato de tarjeta p...</td>\n",
       "      <td>¿Cómo puedo modificar un contrato de tarjeta p...</td>\n",
       "      <td>['motivo cambio de límite Tarjeta', 'como renu...</td>\n",
       "      <td>18</td>\n",
       "      <td>NaN</td>\n",
       "      <td>_Como_puedo_modificar_un_contrato_de_tarjeta_p...</td>\n",
       "      <td>122</td>\n",
       "      <td>[¿Cómo puedo modificar un contrato de tarjeta ...</td>\n",
       "      <td>[¿Cómo puedo modificar un contrato de tarjeta ...</td>\n",
       "      <td>[¿Cómo puedo modificar un contrato de tarjeta ...</td>\n",
       "    </tr>\n",
       "    <tr>\n",
       "      <th>3</th>\n",
       "      <td>3</td>\n",
       "      <td>423029</td>\n",
       "      <td>¿Cómo modificar la forma o importe de cobro de...</td>\n",
       "      <td>¿Cuál es la comisión por recargar una tarjeta ...</td>\n",
       "      <td>['Qué hago para cambiar la forma de cobro de l...</td>\n",
       "      <td>21</td>\n",
       "      <td>NaN</td>\n",
       "      <td>Como_modificar_la_forma_o_importe_de_cobro_de_...</td>\n",
       "      <td>380</td>\n",
       "      <td>[¿Cuál es la comisión por recargar una tarjeta...</td>\n",
       "      <td>[¿Cuál es la comisión por recargar una tarjeta...</td>\n",
       "      <td>[¿Cuál es la comisión por recargar una tarjeta...</td>\n",
       "    </tr>\n",
       "    <tr>\n",
       "      <th>4</th>\n",
       "      <td>4</td>\n",
       "      <td>422618</td>\n",
       "      <td>¿Cuáles son los plazos de recepción de las tar...</td>\n",
       "      <td>¿De que depende el plazo de recepción de las t...</td>\n",
       "      <td>['Por dónde veo los plazos de recepción de las...</td>\n",
       "      <td>29</td>\n",
       "      <td>NaN</td>\n",
       "      <td>Cuales_son_los_plazos_de_recepcion_de_las_tarj...</td>\n",
       "      <td>680</td>\n",
       "      <td>[¿De que depende el plazo de recepción de las ...</td>\n",
       "      <td>[¿De que depende el plazo de recepción de las ...</td>\n",
       "      <td>[¿De que depende el plazo de recepción de las ...</td>\n",
       "    </tr>\n",
       "  </tbody>\n",
       "</table>\n",
       "</div>"
      ],
      "text/plain": [
       "   Unnamed: 0  CODIGO_FAQ                                        title_found  \\\n",
       "0           0      433243            Visa Lidl para empleados del grupo Lidl   \n",
       "1           1      419915  ¿Cómo puedo anular el cobro de una liquidación...   \n",
       "2           2      421998  ¿Cómo puedo modificar un contrato de tarjeta p...   \n",
       "3           3      423029  ¿Cómo modificar la forma o importe de cobro de...   \n",
       "4           4      422618  ¿Cuáles son los plazos de recepción de las tar...   \n",
       "\n",
       "                                               texto  \\\n",
       "0  ¿A quién está dirigida? La Visa Lidl Empleado ...   \n",
       "1  ¿Cómo puedo anular el cobro de una liquidación...   \n",
       "2  ¿Cómo puedo modificar un contrato de tarjeta p...   \n",
       "3  ¿Cuál es la comisión por recargar una tarjeta ...   \n",
       "4  ¿De que depende el plazo de recepción de las t...   \n",
       "\n",
       "                                         variaciones  num_variaciones  motivo  \\\n",
       "0  ['Tarjeta para empleados Lidl', 'solicitar UNA...               22     NaN   \n",
       "1  ['Anular cobro liquidación tarjeta oficina', '...               20     NaN   \n",
       "2  ['motivo cambio de límite Tarjeta', 'como renu...               18     NaN   \n",
       "3  ['Qué hago para cambiar la forma de cobro de l...               21     NaN   \n",
       "4  ['Por dónde veo los plazos de recepción de las...               29     NaN   \n",
       "\n",
       "                                              intent  num_tokens  \\\n",
       "0            Visa_Lidl_para_empleados_del_grupo_Lidl        1007   \n",
       "1  _Como_puedo_anular_el_cobro_de_una_liquidacion...          74   \n",
       "2  _Como_puedo_modificar_un_contrato_de_tarjeta_p...         122   \n",
       "3  Como_modificar_la_forma_o_importe_de_cobro_de_...         380   \n",
       "4  Cuales_son_los_plazos_de_recepcion_de_las_tarj...         680   \n",
       "\n",
       "                                              chunks  \\\n",
       "0  [¿A quién está dirigida? La Visa Lidl Empleado...   \n",
       "1  [¿Cómo puedo anular el cobro de una liquidació...   \n",
       "2  [¿Cómo puedo modificar un contrato de tarjeta ...   \n",
       "3  [¿Cuál es la comisión por recargar una tarjeta...   \n",
       "4  [¿De que depende el plazo de recepción de las ...   \n",
       "\n",
       "                                             chunks1  \\\n",
       "0  [¿A quién está dirigida? La Visa Lidl Empleado...   \n",
       "1  [¿Cómo puedo anular el cobro de una liquidació...   \n",
       "2  [¿Cómo puedo modificar un contrato de tarjeta ...   \n",
       "3  [¿Cuál es la comisión por recargar una tarjeta...   \n",
       "4  [¿De que depende el plazo de recepción de las ...   \n",
       "\n",
       "                                             chunks2  \n",
       "0  [¿A quién está dirigida? La Visa Lidl Empleado...  \n",
       "1  [¿Cómo puedo anular el cobro de una liquidació...  \n",
       "2  [¿Cómo puedo modificar un contrato de tarjeta ...  \n",
       "3  [¿Cuál es la comisión por recargar una tarjeta...  \n",
       "4  [¿De que depende el plazo de recepción de las ...  "
      ]
     },
     "execution_count": 34,
     "metadata": {},
     "output_type": "execute_result"
    }
   ],
   "source": [
    "df_docs_uoc.head()"
   ]
  },
  {
   "cell_type": "code",
   "execution_count": 35,
   "metadata": {},
   "outputs": [
    {
     "name": "stdout",
     "output_type": "stream",
     "text": [
      "4498\n"
     ]
    }
   ],
   "source": [
    "print(df_docs_uoc['chunks2'].apply(len).sum())"
   ]
  },
  {
   "cell_type": "code",
   "execution_count": 36,
   "metadata": {},
   "outputs": [],
   "source": [
    "df_chunked = df_docs_uoc.explode('chunks2')"
   ]
  },
  {
   "cell_type": "code",
   "execution_count": 37,
   "metadata": {},
   "outputs": [],
   "source": [
    "df_chunked['len_chunks'] = df_chunked['chunks'].apply(len)"
   ]
  },
  {
   "cell_type": "code",
   "execution_count": 17,
   "metadata": {},
   "outputs": [],
   "source": [
    "df_chunked = df_chunked.drop(columns='chunks').drop_duplicates()"
   ]
  },
  {
   "cell_type": "code",
   "execution_count": 22,
   "metadata": {},
   "outputs": [
    {
     "data": {
      "text/plain": [
       "<Axes: >"
      ]
     },
     "execution_count": 22,
     "metadata": {},
     "output_type": "execute_result"
    },
    {
     "data": {
      "image/png": "[encoded data removed]",
      "text/plain": [
       "<Figure size 640x480 with 1 Axes>"
      ]
     },
     "metadata": {},
     "output_type": "display_data"
    }
   ],
   "source": [
    "df_chunked['len_chunks'].hist()"
   ]
  },
  {
   "cell_type": "code",
   "execution_count": 23,
   "metadata": {},
   "outputs": [
    {
     "name": "stderr",
     "output_type": "stream",
     "text": [
      "/Library/Frameworks/Python.framework/Versions/3.12/lib/python3.12/site-packages/tqdm/auto.py:21: TqdmWarning: IProgress not found. Please update jupyter and ipywidgets. See https://ipywidgets.readthedocs.io/en/stable/user_install.html\n",
      "  from .autonotebook import tqdm as notebook_tqdm\n"
     ]
    }
   ],
   "source": [
    "from sentence_transformers import SentenceTransformer\n",
    "\n",
    "def embeddings_GIST(docs: list[str]):\n",
    "    model = SentenceTransformer(\"avsolatorio/GIST-small-Embedding-v0\")\n",
    "    embeddings = model.encode(docs, convert_to_tensor=False)\n",
    "    return embeddings"
   ]
  },
  {
   "cell_type": "code",
   "execution_count": 39,
   "metadata": {},
   "outputs": [],
   "source": [
    "df_chunked['embeddings'] = df_chunked['chunks2'].apply(embeddings_GIST)\n",
    "df_chunked.to_pickle('data/corpus_chunked_linebreak.pkl')"
   ]
  },
  {
   "cell_type": "code",
   "execution_count": 28,
   "metadata": {},
   "outputs": [
    {
     "name": "stdout",
     "output_type": "stream",
     "text": [
      "Index(['Unnamed: 0', 'CODIGO_FAQ', 'title_found', 'texto', 'variaciones',\n",
      "       'num_variaciones', 'motivo', 'intent', 'num_tokens', 'len_chunks'],\n",
      "      dtype='object')\n"
     ]
    }
   ],
   "source": [
    "print(df_chunked.columns)"
   ]
  },
  {
   "cell_type": "code",
   "execution_count": null,
   "metadata": {},
   "outputs": [],
   "source": [
    "# Defining cosine similarity \n",
    "def compute_cosine_similarity(a,b): \n",
    "    cos_sim = np.dot(a, b)/(np.linalg.norm(a)*np.linalg.norm(b))\n",
    "    return (cos_sim)"
   ]
  },
  {
   "cell_type": "code",
   "execution_count": null,
   "metadata": {},
   "outputs": [],
   "source": [
    "def getTop(uq_emb, df2, th_min=0.85, th_dif=0.05):\n",
    "    df2['cosine_sim'] = df2['embedding'].apply(lambda x: compute_cosine_similarity(uq_emb, x))\n",
    "    df2 = df2.sort_values(by='cosine_sim',ascending=False).drop_duplicates(subset='punto norma')\n",
    "    # df2 = df2[df2['cosine_sim2']>th_min].reset_index(drop=True)\n",
    "    # df2 = df2[df2['cosine_sim2']>(df2['cosine_sim2'].max()-th_dif)]\n",
    "    # print(df2['cosine_sim2'].values)\n",
    "    return df2['chunks'].values[:4], df2['cosine_sim'].values#, df2['texto'].values]"
   ]
  },
  {
   "cell_type": "code",
   "execution_count": null,
   "metadata": {},
   "outputs": [],
   "source": [
    "df_test = pd.read_csv('data/test_queries.csv',sep=\"|\")"
   ]
  },
  {
   "cell_type": "code",
   "execution_count": null,
   "metadata": {},
   "outputs": [],
   "source": [
    "df_test['getTop'] = df_test['embedding'].apply(lambda x: getTop(x, df_chunked))\n",
    "df_test['results'] = df_test['getTop'].apply(lambda x: x[0])\n",
    "df_test['scores'] = df_test['getTop'].apply(lambda x: x[1])"
   ]
  },
  {
   "cell_type": "code",
   "execution_count": null,
   "metadata": {},
   "outputs": [],
   "source": [
    "df_test['scores0'] = df_test['scores'].apply(lambda x: x[0])\n",
    "df_test['top4'] = df_test.apply(lambda x: x['chunks'] in x['results'], axis=1)\n",
    "df_test['top1'] = df_test.apply(lambda x: x['chunks']==x['results'][0], axis=1)"
   ]
  },
  {
   "cell_type": "code",
   "execution_count": null,
   "metadata": {},
   "outputs": [],
   "source": [
    "df_test['top4'].sum()/len(df_test)"
   ]
  },
  {
   "cell_type": "code",
   "execution_count": null,
   "metadata": {},
   "outputs": [],
   "source": [
    "df_test['top1'].sum()/len(df_test)"
   ]
  },
  {
   "cell_type": "code",
   "execution_count": null,
   "metadata": {},
   "outputs": [],
   "source": [
    "plt.hist(df_test[df_test['top4']]['scores0'], color = \"blue\", alpha=0.5)\n",
    "plt.hist(df_test[~df_test['top4']]['scores0'], color = \"red\", alpha=0.5)"
   ]
  },
  {
   "cell_type": "code",
   "execution_count": null,
   "metadata": {},
   "outputs": [],
   "source": [
    "df_test[~df_test['top1']].sort_values(by='scores0',ascending=False)"
   ]
  }
 ],
 "metadata": {
  "kernelspec": {
   "display_name": "Python 3",
   "language": "python",
   "name": "python3"
  },
  "language_info": {
   "codemirror_mode": {
    "name": "ipython",
    "version": 3
   },
   "file_extension": ".py",
   "mimetype": "text/x-python",
   "name": "python",
   "nbconvert_exporter": "python",
   "pygments_lexer": "ipython3",
   "version": "3.12.2"
  }
 },
 "nbformat": 4,
 "nbformat_minor": 2
}
